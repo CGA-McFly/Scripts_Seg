{
 "cells": [
  {
   "cell_type": "code",
   "execution_count": 0,
   "metadata": {
    "application/vnd.databricks.v1+cell": {
     "cellMetadata": {
      "byteLimit": 2048000,
      "rowLimit": 10000
     },
     "inputWidgets": {},
     "nuid": "4526114c-cf47-4806-b864-43a31e8a25d4",
     "showTitle": false,
     "tableResultSettingsMap": {},
     "title": ""
    }
   },
   "outputs": [],
   "source": [
    "import sys\n",
    "import importlib\n",
    "sys.path.append('/Workspace/Users/luisfdiaz@bcp.com.pe/Modulo de Seguimiento/')\n",
    "\n",
    "import SegScore as rmm\n",
    "importlib.reload(rmm)\n",
    "\n",
    "# Librerias y fuciones generales\n",
    "from pyspark.sql.functions import date_format, expr, to_date, date_sub, add_months, col, when, coalesce, trim, broadcast, avg, max, min, lit, concat, window, round as colround, upper, abs as sparkabs,greatest\n",
    "from pyspark.sql import functions as F\n",
    "from pyspark import StorageLevel\n",
    "import numpy as np\n",
    "import seaborn as sns\n",
    "import pandas as pd\n",
    "import matplotlib.pyplot as plt\n",
    "from pyspark.sql.window import Window"
   ]
  },
  {
   "cell_type": "code",
   "execution_count": 0,
   "metadata": {
    "application/vnd.databricks.v1+cell": {
     "cellMetadata": {
      "byteLimit": 2048000,
      "rowLimit": 10000
     },
     "inputWidgets": {},
     "nuid": "eda94aa5-6e3b-4824-9ee5-35e07d1d8193",
     "showTitle": false,
     "tableResultSettingsMap": {},
     "title": ""
    }
   },
   "outputs": [],
   "source": [
    "#Cuartiles\n",
    "from pyspark.sql import functions as F\n",
    "\n",
    "def categorize_by_quintiles(df, column_names, filter_condition, quintile_probabilities=[0.25, 0.5, 0.75, 1.0], relative_error=0.01):\n",
    "    for column in column_names:\n",
    "        # Filtrar y calcular los quintiles\n",
    "        quintiles = df.filter(filter_condition).approxQuantile(column, quintile_probabilities, relative_error)\n",
    "        Minimo = df.agg({column: \"min\"}).collect()[0][0]\n",
    "        \n",
    "        # Crear la nueva columna categorizada\n",
    "        df = df.withColumn(\n",
    "            f'{column}_Q',\n",
    "            F.when(F.col(column) <= quintiles[0], f\"1. {format(Minimo, '.3f')} - {format(quintiles[0], '.3f')}\")\n",
    "             .when(F.col(column) <= quintiles[1], f\"2. {format(quintiles[0], '.3f')} - {format(quintiles[1], '.3f')}\")\n",
    "             .when(F.col(column) <= quintiles[2], f\"3. {format(quintiles[1], '.3f')} - {format(quintiles[2], '.3f')}\")\n",
    "             .when(F.col(column) <= quintiles[3], f\"4. {format(quintiles[2], '.3f')} - {format(quintiles[3], '.3f')}\")\n",
    "             .otherwise(\"98. Missing\")\n",
    "        )\n",
    "    return df"
   ]
  },
  {
   "cell_type": "code",
   "execution_count": 0,
   "metadata": {
    "application/vnd.databricks.v1+cell": {
     "cellMetadata": {
      "byteLimit": 2048000,
      "rowLimit": 10000
     },
     "inputWidgets": {},
     "nuid": "c099d4c4-6b98-4254-bc16-25ed666fe7c6",
     "showTitle": false,
     "tableResultSettingsMap": {},
     "title": ""
    }
   },
   "outputs": [],
   "source": [
    "#Mostrar los duplicados\n",
    "def print_res(sparkf_df):\n",
    "  import pandas as pd\n",
    "  pd.set_option('display.max_rows', None)\n",
    "  pd.set_option('display.max_columns', None)\n",
    "  pd_spark_df = sparkf_df.toPandas()\n",
    " \n",
    "  return pd_spark_df"
   ]
  },
  {
   "cell_type": "code",
   "execution_count": 0,
   "metadata": {
    "application/vnd.databricks.v1+cell": {
     "cellMetadata": {
      "byteLimit": 2048000,
      "rowLimit": 10000
     },
     "inputWidgets": {},
     "nuid": "d8b04a75-2d14-4cd6-ab3b-ade8f6850557",
     "showTitle": false,
     "tableResultSettingsMap": {},
     "title": ""
    }
   },
   "outputs": [],
   "source": [
    "from collections import Counter\n",
    "\n",
    "def find_repeated_columns(df):\n",
    "    column_names = df.columns\n",
    "    column_counts = Counter(column_names)\n",
    "    repeated_columns = [col for col, count in column_counts.items() if count > 1]\n",
    "    return repeated_columns"
   ]
  },
  {
   "cell_type": "code",
   "execution_count": 0,
   "metadata": {
    "application/vnd.databricks.v1+cell": {
     "cellMetadata": {
      "byteLimit": 2048000,
      "rowLimit": 10000
     },
     "inputWidgets": {},
     "nuid": "9917ba7f-d4eb-4e5d-81e8-a0ccb8e1df2c",
     "showTitle": false,
     "tableResultSettingsMap": {},
     "title": ""
    }
   },
   "outputs": [],
   "source": [
    "def find_missing_columns(df1, df2):\n",
    "    columns_df1 = set(df1.columns)\n",
    "    columns_df2 = set(df2.columns)\n",
    "    \n",
    "    missing_in_df2 = columns_df1 - columns_df2\n",
    "    missing_in_df1 = columns_df2 - columns_df1\n",
    "    \n",
    "    print(\"Columnas en df1 pero no en df2:\", missing_in_df2)\n",
    "    print(\"Columnas en df2 pero no en df1:\", missing_in_df1)"
   ]
  },
  {
   "cell_type": "code",
   "execution_count": 0,
   "metadata": {
    "application/vnd.databricks.v1+cell": {
     "cellMetadata": {
      "byteLimit": 2048000,
      "rowLimit": 10000
     },
     "inputWidgets": {},
     "nuid": "7b1d5995-3a03-40ff-bd84-56a66c3ef6f4",
     "showTitle": false,
     "tableResultSettingsMap": {},
     "title": ""
    }
   },
   "outputs": [],
   "source": [
    "def generar_codmes(inicio, final):\n",
    "    codmes_list = []\n",
    "    anio_inicial = inicio // 100\n",
    "    mes_inicial = inicio % 100\n",
    "    \n",
    "    anio_final = final // 100\n",
    "    mes_final = final % 100\n",
    "    \n",
    "    anio = anio_inicial\n",
    "    mes = mes_inicial\n",
    "    \n",
    "    # Generar la lista hasta el mes final\n",
    "    while (anio < anio_final) or (anio == anio_final and mes <= mes_final):\n",
    "        codmes_list.append(anio * 100 + mes)\n",
    "        mes += 1\n",
    "        if mes > 12:\n",
    "            mes = 1  # Pasar a enero del siguiente año\n",
    "            anio += 1\n",
    "    return codmes_list"
   ]
  },
  {
   "cell_type": "code",
   "execution_count": 0,
   "metadata": {
    "application/vnd.databricks.v1+cell": {
     "cellMetadata": {
      "byteLimit": 2048000,
      "rowLimit": 10000
     },
     "inputWidgets": {},
     "nuid": "82cb2c3d-518f-47e3-8cbf-e38e03482e93",
     "showTitle": false,
     "tableResultSettingsMap": {},
     "title": ""
    }
   },
   "outputs": [],
   "source": [
    "from pyspark.sql.functions import coalesce, lit\n",
    "\n",
    "def dias_atraso(base, identificador, inicio, final): \n",
    "    df_list = []\n",
    "    espacio = generar_codmes(inicio = inicio, final = final)\n",
    "    for codmes in espacio:\n",
    "        numeromes = (codmes // 100) * 12 + (codmes % 100)\n",
    "        codmes_f1 = ((numeromes - 1 + 1) // 12) * 100 + ((numeromes + 11 - 11 * 1) % 12) + 1\n",
    "        codmes_f2 = ((numeromes - 1 + 2) // 12) * 100 + ((numeromes + 11 - 11 * 2) % 12) + 1\n",
    "        codmes_f3 = ((numeromes - 1 + 3) // 12) * 100 + ((numeromes + 11 - 11 * 3) % 12) + 1\n",
    "\n",
    "        df_base = base.filter(f\"CODMES = {codmes}\").select(\"CODMES\", identificador, \"CTDMESMADURACION\", \"MTOSALDOCAPITALSOL\",\"TIPBLOQUEOPRODUCTO\", \"CTDDIAATRASO\")\n",
    "        df_f1 = base.filter(f\"CODMES = {codmes_f1}\").select(\"CODMES\", identificador, \"CTDDIAATRASO\")\n",
    "        df_f2 = base.filter(f\"CODMES = {codmes_f2}\").select(\"CODMES\", identificador, \"CTDDIAATRASO\")\n",
    "        df_f3 = base.filter(f\"CODMES = {codmes_f3}\").select(\"CODMES\", identificador, \"CTDDIAATRASO\")\n",
    "\n",
    "        df_parcial = df_base.alias('A') \\\n",
    "                .join(df_f1.alias('B'), on = identificador, how = 'left') \\\n",
    "                .join(df_f2.alias('C'), on = identificador, how = 'left') \\\n",
    "                .join(df_f3.alias('D'), on = identificador, how = 'left') \\\n",
    "                .selectExpr('A.*', \n",
    "                            'COALESCE(B.CTDDIAATRASO, 0) AS CTDDIAATRASO_F1', \n",
    "                            'COALESCE(C.CTDDIAATRASO, 0) AS CTDDIAATRASO_F2', \n",
    "                            'COALESCE(D.CTDDIAATRASO, 0) AS CTDDIAATRASO_F3')\n",
    "                \n",
    "        df_list.append(df_parcial)\n",
    "        print(f'Iteración {codmes}:', f't0:{codmes}', f't1:{codmes_f1}', f't2:{codmes_f2}', f't3:{codmes_f3}')\n",
    "\n",
    "    df_final = df_list[0]\n",
    "    for df in df_list[1:]:\n",
    "        df_final = df_final.unionByName(df)\n",
    "\n",
    "    return df_final"
   ]
  },
  {
   "cell_type": "code",
   "execution_count": 0,
   "metadata": {
    "application/vnd.databricks.v1+cell": {
     "cellMetadata": {
      "byteLimit": 2048000,
      "rowLimit": 10000
     },
     "inputWidgets": {},
     "nuid": "d90e5748-4d5e-4ec1-bc35-34e512c33b08",
     "showTitle": false,
     "tableResultSettingsMap": {},
     "title": ""
    }
   },
   "outputs": [],
   "source": [
    "def rezago_codmes_col(base, rezago_mes):\n",
    "    for i in range(0, rezago_mes + 1, 1):\n",
    "        base = base.withColumn(f\"CODMES_{i}\", date_format(add_months(to_date(concat(col(\"codmes\"), lit(\"01\")), \"yyyyMMdd\"), -i), \"yyyyMM\"))\n",
    "        base = base.withColumn(f\"CODMES_{i}\", col(f\"CODMES_{i}\").cast(\"integer\"))\n",
    "    return base\n",
    "\n",
    "def avance_codmes_col(base, avance_mes):\n",
    "    for l in range(0, avance_mes + 1, 1):\n",
    "        base = base.withColumn(f\"CODMES_F{l}\", date_format(add_months(to_date(concat(col(\"codmes\"), lit(\"01\")), \"yyyyMMdd\"), l), \"yyyyMM\"))\n",
    "        base = base.withColumn(f\"CODMES_F{l}\", col(f\"CODMES_F{l}\").cast(\"integer\"))\n",
    "    return base"
   ]
  },
  {
   "cell_type": "code",
   "execution_count": 0,
   "metadata": {
    "application/vnd.databricks.v1+cell": {
     "cellMetadata": {
      "byteLimit": 2048000,
      "rowLimit": 10000
     },
     "inputWidgets": {},
     "nuid": "6ced31d0-e22b-47e2-a9fd-3f4d0e38493d",
     "showTitle": false,
     "tableResultSettingsMap": {},
     "title": ""
    }
   },
   "outputs": [],
   "source": [
    "hm_mtz_adm_hipotecario_driver = spark.table('catalog_lhcl_prod_bcp.bcp_edv_fabseg.T45988_hm_mtz_admision_hipotecario_202503_F')"
   ]
  },
  {
   "cell_type": "code",
   "execution_count": 0,
   "metadata": {
    "application/vnd.databricks.v1+cell": {
     "cellMetadata": {
      "byteLimit": 2048000,
      "rowLimit": 10000
     },
     "inputWidgets": {},
     "nuid": "f31b69e8-d066-4cd0-9f85-f2ef99cd70f7",
     "showTitle": false,
     "tableResultSettingsMap": {},
     "title": ""
    }
   },
   "outputs": [],
   "source": [
    "hm_adm_hip_trad_001 = hm_mtz_adm_hipotecario_driver.filter(\n",
    "    (col(\"TIPO_FONDEO\") == 'FONDEO BCP') &\n",
    "    (col(\"CAMPANIA_AGRUPADA\") == 'Tradicional') &\n",
    "    (~col(\"DESTIPFINALIDADCREDHIPOTECARIO\").isin(\n",
    "        'AMPLIACION DE CREDITO PARA CONSTRUCCION',\n",
    "        'AMPLIACION-REMOD.CASA CAMPO',\n",
    "        'AMPLIACION-REMOD.CASA HABITACION',\n",
    "        'Cambio de titularidad',\n",
    "        'CAMBIO PLAZO',\n",
    "        'CAMBIO VARIOS',\n",
    "        'LIBRE DISP. CON GARANT.LOCAL COMERC.',\n",
    "        'LIBRE DISPONIBILIDAD',\n",
    "        'MIGRACION DE CREDITO',\n",
    "        'MIGRACION DE MONEDA',\n",
    "        'NUEVA AMPLIACION DE CREDITO',\n",
    "        'Unificacion de credito hipotecario'\n",
    "    ))\n",
    ")"
   ]
  },
  {
   "cell_type": "code",
   "execution_count": 0,
   "metadata": {
    "application/vnd.databricks.v1+cell": {
     "cellMetadata": {
      "byteLimit": 2048000,
      "rowLimit": 10000
     },
     "inputWidgets": {},
     "nuid": "f81d9094-8d46-4a66-bdad-bcbae5da04f7",
     "showTitle": true,
     "tableResultSettingsMap": {},
     "title": "p99 monto"
    }
   },
   "outputs": [],
   "source": [
    "filtered_df = hm_adm_hip_trad_001.filter(col(\"codmes\") >= 202201)\n",
    "\n",
    "# Calculate the 99th percentile\n",
    "percentiles_df = filtered_df.selectExpr(\"percentile_approx(MTOAPROBADO_SOLES, 0.99) as P_99\")\n",
    "\n",
    "# Show the result\n",
    "percentiles_df.show()"
   ]
  },
  {
   "cell_type": "code",
   "execution_count": 0,
   "metadata": {
    "application/vnd.databricks.v1+cell": {
     "cellMetadata": {
      "byteLimit": 2048000,
      "rowLimit": 10000
     },
     "inputWidgets": {},
     "nuid": "82f5011c-383c-4f1e-ba71-7abe7b765b73",
     "showTitle": false,
     "tableResultSettingsMap": {},
     "title": ""
    }
   },
   "outputs": [],
   "source": [
    "hm_adm_hip_trad_001.createOrReplaceTempView(\"temp_hm_adm_hip_trad_001\")"
   ]
  },
  {
   "cell_type": "code",
   "execution_count": 0,
   "metadata": {
    "application/vnd.databricks.v1+cell": {
     "cellMetadata": {
      "byteLimit": 2048000,
      "rowLimit": 10000
     },
     "inputWidgets": {},
     "nuid": "60af323a-7cfb-4f05-a2e7-4fe6eb0d9e14",
     "showTitle": false,
     "tableResultSettingsMap": {},
     "title": ""
    }
   },
   "outputs": [],
   "source": [
    "path_CSV = \"abfss://bcp-edv-fabseg@adlscu1lhclbackp05.dfs.core.windows.net/HIPOTECARIO_2025/APP/202503/HM_ADM_HIP_TRADPYME_2Q24\"\n",
    " \n",
    "spark.sql(\"\"\"DROP TABLE IF EXISTS catalog_lhcl_prod_bcp.bcp_edv_fabseg.T45988_HM_ADM_HIP_TRADPYME_2Q24_202503;\"\"\")\n",
    " \n",
    "spark.sql(f\"\"\"\n",
    "    CREATE TABLE catalog_lhcl_prod_bcp.bcp_edv_fabseg.T45988_HM_ADM_HIP_TRADPYME_2Q24_202503\n",
    "    USING CSV\n",
    "    OPTIONS (header = \"true\", inferSchema = \"true\",delimiter = \";\")    \n",
    "    LOCATION '{path_CSV}'\n",
    "\"\"\")"
   ]
  },
  {
   "cell_type": "code",
   "execution_count": 0,
   "metadata": {
    "application/vnd.databricks.v1+cell": {
     "cellMetadata": {
      "byteLimit": 2048000,
      "rowLimit": 10000
     },
     "inputWidgets": {},
     "nuid": "4307b625-ee7e-4e5a-9e92-673d6ca81716",
     "showTitle": false,
     "tableResultSettingsMap": {},
     "title": ""
    }
   },
   "outputs": [],
   "source": [
    "hm_adm_hip_trad_001_0 = spark.sql(\"\"\"\n",
    "SELECT \n",
    "    A.*, \n",
    "    B.PD_APP_HIP_TRDPYME_2Q24,\n",
    "    B.XB_APP_HIP_TRDPYME_2Q24,\n",
    "    B.XB_APP_HIP_TRDPYME_IDIO,\n",
    "    B.XB_ADC_POND85_F AS XB_BASE, \n",
    "    B.FLAG_PYME,\n",
    "    B.EXP_PCT_EVOL_SHIP_U6M_RT_U24 AS DEU_NOHIP_6_24, \n",
    "    B.EXP_PCT_EVOL_SHIP_U6M_RT_U24_A3,\n",
    "    B.RCC_PCT_UTL6_UTL24_RT_U24 AS UTIL_PROM_6_24, \n",
    "    B.RCC_PCT_UTL6_UTL24_RT_U24_A2,\n",
    "    B.SLD_PRM_PAS_MIN_24_24_RT_U24 AS PAS_MIN_PROM24, \n",
    "    B.SLD_PRM_PAS_MIN_24_24_RT_U24_I\n",
    "FROM \n",
    "    temp_hm_adm_hip_trad_001 AS A\n",
    "LEFT JOIN \n",
    "    (SELECT distinct a.* FROM catalog_lhcl_prod_bcp.bcp_edv_fabseg.T45988_HM_ADM_HIP_TRADPYME_2Q24_202503 as a WHERE CAMPANIA_AGRUPADA_NEW = 'Tradicional' and PD_APP_HIP_TRDPYME_2Q24 is not null) AS B \n",
    "ON \n",
    "    A.CODMES = B.CODMES AND A.CODCLAVECIC = B.CODCLAVECIC\n",
    "\"\"\")\n"
   ]
  },
  {
   "cell_type": "code",
   "execution_count": 0,
   "metadata": {
    "application/vnd.databricks.v1+cell": {
     "cellMetadata": {
      "byteLimit": 2048000,
      "rowLimit": 10000
     },
     "inputWidgets": {},
     "nuid": "df487884-32a8-4f9c-a854-fadc3bf80936",
     "showTitle": false,
     "tableResultSettingsMap": {},
     "title": ""
    }
   },
   "outputs": [],
   "source": [
    "hm_adm_hip_trad_001_0.persist(StorageLevel.MEMORY_AND_DISK).count()\n",
    "\n",
    "dup = hm_adm_hip_trad_001_0.groupBy(\"codmes\", \"codclaveopecta\").count().alias(\"count\").filter(col(\"count\")>1)\n",
    "print_res(dup)"
   ]
  },
  {
   "cell_type": "code",
   "execution_count": 0,
   "metadata": {
    "application/vnd.databricks.v1+cell": {
     "cellMetadata": {
      "byteLimit": 2048000,
      "rowLimit": 10000
     },
     "inputWidgets": {},
     "nuid": "bc77e13d-d88b-46e1-96ed-133e7df14877",
     "showTitle": false,
     "tableResultSettingsMap": {},
     "title": ""
    }
   },
   "outputs": [],
   "source": [
    "path_CSV = \"abfss://bcp-edv-fabseg@adlscu1lhclbackp05.dfs.core.windows.net/HIPOTECARIO_2025/APP/202503/MM_APPSCORE_HIP_TRD\"\n",
    " \n",
    "spark.sql(\"\"\"DROP TABLE IF EXISTS catalog_lhcl_prod_bcp.bcp_edv_fabseg.T45988_MM_APPSCORE_HIP_TRD_202503;\"\"\")\n",
    " \n",
    "spark.sql(f\"\"\"\n",
    "    CREATE TABLE catalog_lhcl_prod_bcp.bcp_edv_fabseg.T45988_MM_APPSCORE_HIP_TRD_202503\n",
    "    USING CSV\n",
    "    OPTIONS (header = \"true\", inferSchema = \"true\",delimiter = \";\")    \n",
    "    LOCATION '{path_CSV}'\n",
    "\"\"\")"
   ]
  },
  {
   "cell_type": "code",
   "execution_count": 0,
   "metadata": {
    "application/vnd.databricks.v1+cell": {
     "cellMetadata": {
      "byteLimit": 2048000,
      "rowLimit": 10000
     },
     "inputWidgets": {},
     "nuid": "81825596-af60-423c-a980-eda875c586cb",
     "showTitle": false,
     "tableResultSettingsMap": {},
     "title": ""
    }
   },
   "outputs": [],
   "source": [
    "hm_adm_hip_trad_001_0 = hm_adm_hip_trad_001_0.drop(\"EDAD\")"
   ]
  },
  {
   "cell_type": "code",
   "execution_count": 0,
   "metadata": {
    "application/vnd.databricks.v1+cell": {
     "cellMetadata": {
      "byteLimit": 2048000,
      "rowLimit": 10000
     },
     "inputWidgets": {},
     "nuid": "811b7af4-f560-4246-ab76-ccce4b3142ef",
     "showTitle": false,
     "tableResultSettingsMap": {},
     "title": ""
    }
   },
   "outputs": [],
   "source": [
    "hm_adm_hip_trad_001_0.createOrReplaceTempView(\"temp_hm_adm_hip_trad_001_0\")"
   ]
  },
  {
   "cell_type": "code",
   "execution_count": 0,
   "metadata": {
    "application/vnd.databricks.v1+cell": {
     "cellMetadata": {
      "byteLimit": 2048000,
      "rowLimit": 10000
     },
     "inputWidgets": {},
     "nuid": "c35e38b5-6465-4c3c-bc1a-261604846e43",
     "showTitle": false,
     "tableResultSettingsMap": {},
     "title": ""
    }
   },
   "outputs": [],
   "source": [
    "hm_adm_hip_trad_001_1=spark.sql(\"\"\"\n",
    "SELECT A.*, \n",
    "       B.XB_ADC_POND85_F, \n",
    "       B.XB_ADC_POND85,\n",
    "       B.XB_AD_HOC,\n",
    "       B.XB_ACT_S_ADCW,\n",
    "       B.XB_PAS_S_ADCW, \n",
    "       B.XB_TRX_S_ADCW,\n",
    "       B.XB_RCC_S_ADCW,\n",
    "       B.XB_DEM_S_ADCW,\n",
    "       B.ANT_LABORAL_MESES,\n",
    "       B.ANT_LABORAL_MESES_E2,\n",
    "       B.CAT_ZONA1,\n",
    "       B.CAT_ZONA1_C_ST,\n",
    "       B.CIIU_DEF,\n",
    "       B.CL_CIIU_ST,\n",
    "       B.EDAD,\n",
    "       B.EDAD_E1,\n",
    "       B.EST_CIV,\n",
    "       B.EST_CIV_ST,\n",
    "       B.ING_CASCADA3,\n",
    "       B.ING_CASCADA3_D2,\n",
    "       B.XB_HIP,\n",
    "       B.LTV_1,\n",
    "       B.LTV_1_D2,\n",
    "       B.GRUPO_PLAZO,\n",
    "       B.GRUPO_PLAZO_ST,\n",
    "       B.RIESGO_ZONA_ST,\n",
    "       B.RIESGO_ZONA_ST_ST,\n",
    "       B.XB_ADC_POND85_2,\n",
    "       B.XB_AD_HOC_2,\n",
    "       B.XB_DEM_S_ADCW_2,\n",
    "       B.FLG_SOLTERO_C AS FLG_SOLTERO_ESPJ,\n",
    "       B.SEGMENTO AS SEGMENTO_ESPJ,\n",
    "       B.SEGMENTO2_st,\n",
    "       B.FLG_NODEP AS FLG_NODEP_ESPJ,\n",
    "       B.ZONA_PAUTA5,\n",
    "       B.ZONA_PAUTA5_st,\n",
    "       B.D_PYME,\n",
    "       CASE \n",
    "           WHEN B.ZONA_PAUTA5 IS NULL THEN '99. Missing'\n",
    "           WHEN B.ZONA_PAUTA5 = 'LIMA TOP' THEN '1. Lima Top'\n",
    "           WHEN B.ZONA_PAUTA5 = 'LIMA MODERNA' THEN '2. Lima Moderna'\n",
    "           WHEN B.ZONA_PAUTA5 = 'PROVINCIA TOP' THEN '3. Provincia Top'\n",
    "           WHEN B.ZONA_PAUTA5 = 'OTROS' THEN '4. Otros'\n",
    "           ELSE '98. N.A.' \n",
    "       END AS ZONA_PAUTA5_F,\n",
    "       B.PD_P7_ajus AS PD_BASE_ESPEJO,\n",
    "       B.SC_P7_ajus AS SC_BASE_ESPEJO,\n",
    "       B.XB_P7_ajus AS XB_BASE_ESPEJO\n",
    "FROM temp_hm_adm_hip_trad_001_0 A\n",
    "LEFT JOIN catalog_lhcl_prod_bcp.bcp_edv_fabseg.T45988_MM_APPSCORE_HIP_TRD_202503 B ON A.CODSOLICITUD = B.CODSOLICITUD\n",
    "\"\"\")\n"
   ]
  },
  {
   "cell_type": "code",
   "execution_count": 0,
   "metadata": {
    "application/vnd.databricks.v1+cell": {
     "cellMetadata": {
      "byteLimit": 2048000,
      "rowLimit": 10000
     },
     "inputWidgets": {},
     "nuid": "f3794b8a-2bd6-4444-ab5c-580fd87244df",
     "showTitle": false,
     "tableResultSettingsMap": {},
     "title": ""
    }
   },
   "outputs": [],
   "source": [
    "hm_adm_hip_trad_001_1.persist(StorageLevel.MEMORY_AND_DISK).count()\n",
    "\n",
    "dup = hm_adm_hip_trad_001_1.groupBy(\"codmes\", \"codclaveopecta\").count().alias(\"count\").filter(col(\"count\")>1)\n",
    "print_res(dup)"
   ]
  },
  {
   "cell_type": "code",
   "execution_count": 0,
   "metadata": {
    "application/vnd.databricks.v1+cell": {
     "cellMetadata": {
      "byteLimit": 2048000,
      "rowLimit": 10000
     },
     "inputWidgets": {},
     "nuid": "b4556d46-6725-47f9-8f08-dc34d2d38ec7",
     "showTitle": false,
     "tableResultSettingsMap": {},
     "title": ""
    }
   },
   "outputs": [],
   "source": [
    "PD_SEG='PD_APP_HIP_TRDPYME_2Q24'\n",
    "SCORE='SC_APP_TRAD'\n",
    "PAUTA=335"
   ]
  },
  {
   "cell_type": "code",
   "execution_count": 0,
   "metadata": {
    "application/vnd.databricks.v1+cell": {
     "cellMetadata": {
      "byteLimit": 2048000,
      "rowLimit": 10000
     },
     "inputWidgets": {},
     "nuid": "cc6f8ef9-bb6c-4c3f-9a0b-7bc33043d166",
     "showTitle": false,
     "tableResultSettingsMap": {},
     "title": ""
    }
   },
   "outputs": [],
   "source": [
    "hm_adm_hip_trad_002 = hm_adm_hip_trad_001_1.withColumn(\"RANGO_SCORE\", when(col(SCORE).isNull(), '99. Missing')\n",
    "                   .when(col(SCORE) < 335, '01. <0 - 335>')\n",
    "                   .when(col(SCORE) < 365, '02. [335 - 365>')\n",
    "                   .when(col(SCORE) < 415, '03. [365 - 415>')\n",
    "                   .when(col(SCORE) < 485, '04. [415 - 485>')\n",
    "                   .when(col(SCORE) >= 485, '05. [485 - ++>')\n",
    "                   .otherwise('98. Otro'))"
   ]
  },
  {
   "cell_type": "code",
   "execution_count": 0,
   "metadata": {
    "application/vnd.databricks.v1+cell": {
     "cellMetadata": {
      "byteLimit": 2048000,
      "rowLimit": 10000
     },
     "inputWidgets": {},
     "nuid": "0401270f-c9fd-4d03-9684-88f85e7c3280",
     "showTitle": false,
     "tableResultSettingsMap": {},
     "title": ""
    }
   },
   "outputs": [],
   "source": [
    "# Add the RANGO_PD column\n",
    "hm_adm_hip_trad_002 = hm_adm_hip_trad_002.withColumn(\"RANGO_PD\", when(col(PD_SEG).isNull(), '99. Missing')\n",
    "                   .when(col(PD_SEG) <= 0.0045641, '01. [0 - 0.45%]')\n",
    "                   .when(col(PD_SEG) <= 0.0151879, '02. <0.45 - 1.51%]')\n",
    "                   .when(col(PD_SEG) <= 0.0353823, '03. <1.51 - 3.53%]')\n",
    "                   .when(col(PD_SEG) <= 0.0581041, '04. <3.53 - 5.81%]')\n",
    "                   .when(col(PD_SEG) > 0.0581041, '05. <5.81 - 100%]')\n",
    "                   .otherwise('98. Otro'))"
   ]
  },
  {
   "cell_type": "code",
   "execution_count": 0,
   "metadata": {
    "application/vnd.databricks.v1+cell": {
     "cellMetadata": {
      "byteLimit": 2048000,
      "rowLimit": 10000
     },
     "inputWidgets": {},
     "nuid": "7399d7ac-4d29-4d3b-8404-d4e04a60b57c",
     "showTitle": false,
     "tableResultSettingsMap": {},
     "title": ""
    }
   },
   "outputs": [],
   "source": [
    "# Add the MONTO_R column\n",
    "hm_adm_hip_trad_002 = hm_adm_hip_trad_002.withColumn(\"MONTO_R\", when(col(\"MTOAPROBADO_SOLES\").isNull(), '99. Missing')\n",
    "                   .when(col(\"MTOAPROBADO_SOLES\") <= 237500, '1. [0 - 237,500]')\n",
    "                   .when(col(\"MTOAPROBADO_SOLES\") <= 340000, '2. <237,500 - 340,000]')\n",
    "                   .when(col(\"MTOAPROBADO_SOLES\") <= 460000, '3. <340,000 - 460,000]')\n",
    "                   .when(col(\"MTOAPROBADO_SOLES\") <= 680000, '4. <460,000 - 680,000]')\n",
    "                   .otherwise('5. <680,000 - ++]'))\n",
    "\n",
    "# Add the PAUTA column\n",
    "hm_adm_hip_trad_002 = hm_adm_hip_trad_002.withColumn(\"PAUTA\", when(col(SCORE) >= PAUTA , 1).otherwise(0))\n",
    "\n",
    "# Add the MISS_PD column\n",
    "hm_adm_hip_trad_002 = hm_adm_hip_trad_002.withColumn(\"MISS_PD\", when(col(PD_SEG).isNull(), 1).otherwise(0))\n",
    "\n",
    "# Add the MISS_MONTO column\n",
    "hm_adm_hip_trad_002 = hm_adm_hip_trad_002.withColumn(\"MISS_MONTO\", when(col(\"MTOAPROBADO_SOLES\").isNull(), 1).otherwise(0))\n",
    "\n",
    "# Add the FLG_ALTOS column\n",
    "hm_adm_hip_trad_002 = hm_adm_hip_trad_002.withColumn(\"FLG_ALTOS\", when(col(\"MTOAPROBADO_SOLES\") >= 2166210, 1).otherwise(0))\n",
    "\n",
    "# Add the DEU_NOHIP_6_24_F column\n",
    "hm_adm_hip_trad_002 = hm_adm_hip_trad_002.withColumn(\"DEU_NOHIP_6_24_F\", when(col(\"DEU_NOHIP_6_24\").isin(\n",
    "    None, 1111111111, -1111111111, 2222222222, -2222222222, 3333333333, -3333333333, \n",
    "    4444444444, 5555555555, 6666666666, 7777777777, 99999), None).otherwise(col(\"DEU_NOHIP_6_24\")))\n",
    "\n",
    "# Add the UTIL_PROM_6_24_F column\n",
    "hm_adm_hip_trad_002 = hm_adm_hip_trad_002.withColumn(\"UTIL_PROM_6_24_F\", when(col(\"UTIL_PROM_6_24\").isin(\n",
    "    None, 1111111111, -1111111111, 2222222222, -2222222222, 3333333333, -3333333333, \n",
    "    4444444444, 5555555555, 6666666666, 7777777777, 99999), None).otherwise(col(\"UTIL_PROM_6_24\")))\n",
    "\n",
    "# Add the PAS_MIN_PROM24_F column\n",
    "hm_adm_hip_trad = hm_adm_hip_trad_002.withColumn(\"PAS_MIN_PROM24_F\", when(col(\"PAS_MIN_PROM24\").isin(\n",
    "    None, 1111111111, -1111111111, 2222222222, -2222222222, 3333333333, -3333333333, \n",
    "    4444444444, 5555555555, 6666666666, 7777777777, 99999), None).otherwise(col(\"PAS_MIN_PROM24\")))"
   ]
  },
  {
   "cell_type": "code",
   "execution_count": 0,
   "metadata": {
    "application/vnd.databricks.v1+cell": {
     "cellMetadata": {
      "byteLimit": 2048000,
      "rowLimit": 10000
     },
     "inputWidgets": {},
     "nuid": "c789d84c-0799-43d2-b3bb-7023363cdccf",
     "showTitle": false,
     "tableResultSettingsMap": {},
     "title": ""
    }
   },
   "outputs": [],
   "source": [
    "hm_adm_hip_trad = hm_adm_hip_trad.withColumn(\"GRUPO_PLAZO\", \n",
    "    when(col(\"GRUPO_PLAZO\") == 1, lit(\"1. Menor a 4 años\"))\n",
    "    .when(col(\"GRUPO_PLAZO\") == 2, lit(\"2. De 5 a 9 años\"))\n",
    "    .when(col(\"GRUPO_PLAZO\") == 3, lit(\"3. De 10 a 14 años\"))\n",
    "    .when(col(\"GRUPO_PLAZO\") == 4, lit(\"4. De 15 a 19 años\"))\n",
    "    .when(col(\"GRUPO_PLAZO\") == 5, lit(\"5. De 20 a 24 años\"))\n",
    "    .when(col(\"GRUPO_PLAZO\") == 6, lit(\"6. De 25 a 29 años\"))\n",
    "    .when(col(\"GRUPO_PLAZO\") == 7, lit(\"7. De 30 a 34 años\"))\n",
    "    .when(col(\"GRUPO_PLAZO\") == 8, lit(\"8. 35 años o más\"))\n",
    ")\n"
   ]
  },
  {
   "cell_type": "code",
   "execution_count": 0,
   "metadata": {
    "application/vnd.databricks.v1+cell": {
     "cellMetadata": {
      "byteLimit": 2048000,
      "rowLimit": 10000
     },
     "inputWidgets": {},
     "nuid": "3554a43e-dfb7-4f95-aa52-e1d38b587eb2",
     "showTitle": false,
     "tableResultSettingsMap": {},
     "title": ""
    }
   },
   "outputs": [],
   "source": [
    "sorted(hm_adm_hip_trad.columns)"
   ]
  },
  {
   "cell_type": "code",
   "execution_count": 0,
   "metadata": {
    "application/vnd.databricks.v1+cell": {
     "cellMetadata": {
      "byteLimit": 2048000,
      "rowLimit": 10000
     },
     "inputWidgets": {},
     "nuid": "c6f43bbe-cf98-4848-ae03-e72c66e5bcb0",
     "showTitle": false,
     "tableResultSettingsMap": {},
     "title": ""
    }
   },
   "outputs": [],
   "source": [
    "hm_adm_hip_trad.createOrReplaceTempView(\"temp_view\")\n",
    "spark.sql(\"CREATE OR REPLACE TABLE catalog_lhcl_prod_bcp.bcp_edv_fabseg.T45988_HM_ADM_HIP_TRAD_202503_F LOCATION 'abfss://bcp-edv-fabseg@adlscu1lhclbackp05.dfs.core.windows.net/HIPOTECARIO_2025/APP/202503/T45988_HM_ADM_HIP_TRAD_202503_F' AS SELECT * FROM temp_view\")"
   ]
  },
  {
   "cell_type": "code",
   "execution_count": 0,
   "metadata": {
    "application/vnd.databricks.v1+cell": {
     "cellMetadata": {},
     "inputWidgets": {},
     "nuid": "5b9c1231-8f3a-4dde-b66f-984b08ba4ed4",
     "showTitle": false,
     "tableResultSettingsMap": {},
     "title": ""
    }
   },
   "outputs": [],
   "source": [
    "hm_adm_hip_trad.persist(StorageLevel.MEMORY_AND_DISK).count()\n",
    "\n",
    "dup = hm_adm_hip_trad.groupBy(\"codmes\", \"codclaveopecta\").count().alias(\"count\").filter(col(\"count\")>1)\n",
    "print_res(dup)"
   ]
  }
 ],
 "metadata": {
  "application/vnd.databricks.v1+notebook": {
   "computePreferences": null,
   "dashboards": [],
   "environmentMetadata": {
    "base_environment": "",
    "environment_version": "2"
   },
   "inputWidgetPreferences": null,
   "language": "python",
   "notebookMetadata": {
    "pythonIndentUnit": 4
   },
   "notebookName": "01_App_Fondeo_BCP_Tradicional",
   "widgets": {}
  },
  "language_info": {
   "name": "python"
  }
 },
 "nbformat": 4,
 "nbformat_minor": 0
}
