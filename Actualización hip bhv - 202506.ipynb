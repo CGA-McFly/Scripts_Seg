{
 "cells": [
  {
   "cell_type": "code",
   "execution_count": 0,
   "metadata": {
    "application/vnd.databricks.v1+cell": {
     "cellMetadata": {
      "byteLimit": 2048000,
      "rowLimit": 10000
     },
     "inputWidgets": {},
     "nuid": "d47d89eb-22e1-4455-9955-1701bd065f70",
     "showTitle": false,
     "tableResultSettingsMap": {},
     "title": ""
    }
   },
   "outputs": [],
   "source": [
    "# Importando módulo de seguimiento 2025 sss\n",
    "import sys\n",
    "import importlib\n",
    "sys.path.append('/Workspace/Users/luisfdiaz@bcp.com.pe/Modulo de Seguimiento/')\n",
    "\n",
    "import SegScore as rmm\n",
    "importlib.reload(rmm)\n",
    "\n",
    "# Librerias y fuciones generales\n",
    "from pyspark.sql.functions import date_format, expr, to_date, date_sub, add_months, col, when, coalesce, trim, broadcast, avg, max, min, lit, concat, window, round as colround, upper, abs as sparkabs,greatest\n",
    "from pyspark.sql import functions as F\n",
    "from pyspark import StorageLevel\n",
    "import numpy as np\n",
    "import seaborn as sns\n",
    "import pandas as pd\n",
    "import matplotlib.pyplot as plt\n",
    "from pyspark.sql.window import Window"
   ]
  },
  {
   "cell_type": "code",
   "execution_count": 0,
   "metadata": {
    "application/vnd.databricks.v1+cell": {
     "cellMetadata": {
      "byteLimit": 2048000,
      "rowLimit": 10000
     },
     "inputWidgets": {},
     "nuid": "735612c1-3e00-4282-a697-7c4f31668de9",
     "showTitle": false,
     "tableResultSettingsMap": {},
     "title": ""
    }
   },
   "outputs": [],
   "source": [
    "bhv_hip_trad = spark.table('catalog_lhcl_prod_bcp.bcp_edv_fabseg.T45988_base_bhv_hip_202504')"
   ]
  },
  {
   "cell_type": "code",
   "execution_count": 0,
   "metadata": {
    "application/vnd.databricks.v1+cell": {
     "cellMetadata": {
      "byteLimit": 2048000,
      "rowLimit": 10000
     },
     "inputWidgets": {},
     "nuid": "532f574e-34d5-4bdf-a914-4a3996d8fb5b",
     "showTitle": false,
     "tableResultSettingsMap": {},
     "title": ""
    }
   },
   "outputs": [],
   "source": [
    "bhv_hip_trad = bhv_hip_trad.drop(\"TIPO_FONDEO\", \"CAMPANIA_AGRUPADA_CLI\",\"MARCA_VULNERABLE_1_5\")"
   ]
  },
  {
   "cell_type": "code",
   "execution_count": 0,
   "metadata": {
    "application/vnd.databricks.v1+cell": {
     "cellMetadata": {
      "byteLimit": 2048000,
      "rowLimit": 10000
     },
     "inputWidgets": {},
     "nuid": "4170a9cd-510c-42c7-b94c-a513079dd76a",
     "showTitle": false,
     "tableResultSettingsMap": {},
     "title": ""
    }
   },
   "outputs": [],
   "source": [
    "bhv_hip_trad = bhv_hip_trad.withColumnRenamed(\"TIPO_FONDEO2\", \"TIPO_FONDEO\")\n",
    "bhv_hip_trad = bhv_hip_trad.withColumnRenamed(\"CAMPANIA_AGRUPADA_CLI2\", \"CAMPANIA_AGRUPADA_CLI\")\n",
    "bhv_hip_trad = bhv_hip_trad.withColumnRenamed(\"MARCA_VULNERABLE\", \"MARCA_VULNERABLE_1_5\")"
   ]
  },
  {
   "cell_type": "code",
   "execution_count": 0,
   "metadata": {
    "application/vnd.databricks.v1+cell": {
     "cellMetadata": {
      "byteLimit": 2048000,
      "rowLimit": 10000
     },
     "inputWidgets": {},
     "nuid": "92859b3d-d50a-49cb-93b1-1986fb35159b",
     "showTitle": false,
     "tableResultSettingsMap": {},
     "title": ""
    }
   },
   "outputs": [],
   "source": [
    "bhv_hip_trad = bhv_hip_trad.withColumn(\"TIPO_FONDEO\", when(col(\"TIPO_FONDEO\").isNull(), \"NULO\").otherwise(col(\"TIPO_FONDEO\")))"
   ]
  },
  {
   "cell_type": "code",
   "execution_count": 0,
   "metadata": {
    "application/vnd.databricks.v1+cell": {
     "cellMetadata": {
      "byteLimit": 2048000,
      "rowLimit": 10000
     },
     "inputWidgets": {},
     "nuid": "5252b2a2-eefb-42ff-88de-62ee1baef625",
     "showTitle": false,
     "tableResultSettingsMap": {},
     "title": ""
    }
   },
   "outputs": [],
   "source": [
    "bhv_hip_trad = bhv_hip_trad.filter(~col(\"TIPO_FONDEO\").isin('GAHI', 'OTROS') & \n",
    "                                     ~col(\"TIPCREDITO\").isin('HVIC', 'HVIM', 'HBIC', 'HSIC', 'HMIC', 'HMIM'))"
   ]
  },
  {
   "cell_type": "code",
   "execution_count": 0,
   "metadata": {
    "application/vnd.databricks.v1+cell": {
     "cellMetadata": {
      "byteLimit": 2048000,
      "rowLimit": 10000
     },
     "inputWidgets": {},
     "nuid": "95c1b408-c3dc-4b30-97f4-46ae1cb92ac0",
     "showTitle": false,
     "tableResultSettingsMap": {},
     "title": ""
    }
   },
   "outputs": [],
   "source": [
    "bhv_hip_trad = bhv_hip_trad.withColumn(\"CODMES\", col(\"CODMES\").cast(\"integer\"))\n",
    "bhv_hip_trad = bhv_hip_trad.withColumn(\"DEF5\", when(col(\"DISTANCIA_DEF\") <= 5, lit(1)).otherwise(lit(0))) \n",
    "bhv_hip_trad = bhv_hip_trad.withColumn(\"DEF4\", when(col(\"DISTANCIA_DEF\") <= 4, lit(1)).otherwise(lit(0))) "
   ]
  },
  {
   "cell_type": "code",
   "execution_count": 0,
   "metadata": {
    "application/vnd.databricks.v1+cell": {
     "cellMetadata": {
      "byteLimit": 2048000,
      "rowLimit": 10000
     },
     "inputWidgets": {},
     "nuid": "ea32b423-c2a8-481b-9529-7ce063da4b4d",
     "showTitle": false,
     "tableResultSettingsMap": {},
     "title": ""
    }
   },
   "outputs": [],
   "source": [
    "#forma 1: rellenamos los nulos con campaña agrupada ifrs9\n",
    "bhv_hip_trad = bhv_hip_trad.withColumn(\"CAMPANIA_AGRUPADA_2_F\", \n",
    "                   when(col(\"CAMPANIA_AGRUPADA_2\") == \"MISSING\", col(\"CAMPANIA_AGRUPADA_IFRS9\"))\n",
    "                   .otherwise(col(\"CAMPANIA_AGRUPADA_2\")))"
   ]
  },
  {
   "cell_type": "code",
   "execution_count": 0,
   "metadata": {
    "application/vnd.databricks.v1+cell": {
     "cellMetadata": {
      "byteLimit": 2048000,
      "rowLimit": 10000
     },
     "inputWidgets": {},
     "nuid": "4d633d7a-6c1c-438d-80e5-76f3a017ed2b",
     "showTitle": false,
     "tableResultSettingsMap": {},
     "title": ""
    }
   },
   "outputs": [],
   "source": [
    "bhv_hip_trad = bhv_hip_trad.withColumn(\"FLG_APALANCAMIENTO\", \n",
    "                   when((col(\"CAMPANIA_AGRUPADA_CLI\") == \"TRADICIONAL\") & (col(\"CUOTA_TOTAL_ING_U3M\") > 0.70), \"APALANCADO\")\n",
    "                   .when(col(\"CAMPANIA_AGRUPADA_CLI\") == \"TRADICIONAL\", \"NO APALANCADO\")\n",
    "                   .when((col(\"CAMPANIA_AGRUPADA_CLI\") == \"PYME\") & (col(\"CUOTA_TOTAL_ING_U3M\") > 1.50), \"APALANCADO\")\n",
    "                   .when(col(\"CAMPANIA_AGRUPADA_CLI\") == \"PYME\", \"NO APALANCADO\")\n",
    "                   .otherwise(\"NO DEFINIDO\"))"
   ]
  },
  {
   "cell_type": "code",
   "execution_count": 0,
   "metadata": {
    "application/vnd.databricks.v1+cell": {
     "cellMetadata": {
      "byteLimit": 2048000,
      "rowLimit": 10000
     },
     "inputWidgets": {},
     "nuid": "adf46c8d-da4e-417e-b142-dbae84e006d9",
     "showTitle": false,
     "tableResultSettingsMap": {},
     "title": ""
    }
   },
   "outputs": [],
   "source": [
    "bhv_hip_trad = bhv_hip_trad.withColumn(\"FLG_APALANCAMIENTO2\", \n",
    "                   when((col(\"CAMPANIA_AGRUPADA_CLI\") == \"TRADICIONAL\") & (col(\"cuota_rcc_ing_u3m_t1\") > 0.70), \"APALANCADO\")\n",
    "                   .when(col(\"CAMPANIA_AGRUPADA_CLI\") == \"TRADICIONAL\", \"NO APALANCADO\")\n",
    "                   .when((col(\"CAMPANIA_AGRUPADA_CLI\") == \"PYME\") & (col(\"cuota_rcc_ing_u3m_t1\") > 1.50), \"APALANCADO\")\n",
    "                   .when(col(\"CAMPANIA_AGRUPADA_CLI\") == \"PYME\", \"NO APALANCADO\")\n",
    "                   .otherwise(\"NO DEFINIDO\"))"
   ]
  },
  {
   "cell_type": "code",
   "execution_count": 0,
   "metadata": {
    "application/vnd.databricks.v1+cell": {
     "cellMetadata": {
      "byteLimit": 2048000,
      "rowLimit": 10000
     },
     "inputWidgets": {},
     "nuid": "591a70d2-d5fa-432e-9c23-eccfa2b83a7b",
     "showTitle": false,
     "tableResultSettingsMap": {},
     "title": ""
    }
   },
   "outputs": [],
   "source": [
    "from pyspark.sql.functions import when, col, concat_ws"
   ]
  },
  {
   "cell_type": "code",
   "execution_count": 0,
   "metadata": {
    "application/vnd.databricks.v1+cell": {
     "cellMetadata": {
      "byteLimit": 2048000,
      "rowLimit": 10000
     },
     "inputWidgets": {},
     "nuid": "293ec603-4cc7-46a0-9cee-30ba3452ae8a",
     "showTitle": false,
     "tableResultSettingsMap": {},
     "title": ""
    }
   },
   "outputs": [],
   "source": [
    "bhv_hip_trad = bhv_hip_trad.withColumn(\"ESTATUS_CEF\", \n",
    "                   when(col(\"FLG_CEF\") == \"CON CEF\", \"CEF:1\")\n",
    "                   .otherwise(\"CEF:0\"))\n",
    "\n",
    "bhv_hip_trad = bhv_hip_trad.withColumn(\"ESTATUS_APAL_CEF\", concat_ws(\"-\", col(\"FLG_APALANCAMIENTO\"), col(\"ESTATUS_CEF\")))\n",
    "\n",
    "bhv_hip_trad = bhv_hip_trad.withColumn(\"PERFIL_F1\", \n",
    "                   when(col(\"FLG_APALANCAMIENTO\") == \"NO APALANCADO\", \"NO APALANCADO\")\n",
    "                   .when(col(\"ESTATUS_APAL_CEF\") == \"APALANCADO-CEF:1\", \"APALANCADO CON CEF\")\n",
    "                   .when(col(\"ESTATUS_APAL_CEF\") == \"APALANCADO-CEF:0\", \"APALANCADO EN RCC\"))\n",
    "\n",
    "bhv_hip_trad = bhv_hip_trad.withColumn(\"PERFIL_F1_VUL\", \n",
    "                   when(col(\"FLG_APALANCAMIENTO\") == \"NO APALANCADO\", \"NO APALANCADO\")\n",
    "                   .otherwise(concat_ws(\"-\", col(\"MARCA_VULNERABLE_1_5\"), col(\"PERFIL_F1\"))))"
   ]
  },
  {
   "cell_type": "code",
   "execution_count": 0,
   "metadata": {
    "application/vnd.databricks.v1+cell": {
     "cellMetadata": {
      "byteLimit": 2048000,
      "rowLimit": 10000
     },
     "inputWidgets": {},
     "nuid": "7a128b2f-142b-438a-8225-73edb7858e28",
     "showTitle": false,
     "tableResultSettingsMap": {},
     "title": ""
    }
   },
   "outputs": [],
   "source": [
    "bhv_hip_trad = bhv_hip_trad.withColumn(\"PERFIL_F2\", \n",
    "                   when(col(\"FLG_APALANCAMIENTO2\") == \"NO APALANCADO\", \"NO APALANCADO\")\n",
    "                   .when(col(\"ESTATUS_APAL_CEF\") == \"APALANCADO-CEF:1\", \"APALANCADO CON CEF\")\n",
    "                   .when(col(\"ESTATUS_APAL_CEF\") == \"APALANCADO-CEF:0\", \"APALANCADO EN RCC\"))\n",
    "\n",
    "bhv_hip_trad = bhv_hip_trad.withColumn(\"PERFIL_F2_VUL\", \n",
    "                   when(col(\"FLG_APALANCAMIENTO2\") == \"NO APALANCADO\", \"NO APALANCADO\")\n",
    "                   .otherwise(concat_ws(\"-\", col(\"MARCA_VULNERABLE_1_5\"), col(\"PERFIL_F1\"))))"
   ]
  },
  {
   "cell_type": "code",
   "execution_count": 0,
   "metadata": {
    "application/vnd.databricks.v1+cell": {
     "cellMetadata": {
      "byteLimit": 2048000,
      "rowLimit": 10000
     },
     "inputWidgets": {},
     "nuid": "2e0f7c74-de8a-48d2-9faa-b4dce8d5d782",
     "showTitle": false,
     "tableResultSettingsMap": {},
     "title": ""
    }
   },
   "outputs": [],
   "source": [
    "bhv_hip_trad = bhv_hip_trad.withColumn(\"PD_BHV_CLI_HIP_6012_V2\", expr(\"1 / (1 + exp(-XB_BHV_CLI_HIP_6012_V2))\"))\n",
    "bhv_hip_trad = bhv_hip_trad.withColumn(\"PD_CEF_FWL\", expr(\"1 / (1 + exp(-XB_CEF_FWL))\"))\n",
    "bhv_hip_trad = bhv_hip_trad.withColumn(\"PD_BHV_HIP_CAL\", expr(\"1 / (1 + exp(-XB_BHV_HIP_CAL))\"))"
   ]
  },
  {
   "cell_type": "code",
   "execution_count": 0,
   "metadata": {
    "application/vnd.databricks.v1+cell": {
     "cellMetadata": {
      "byteLimit": 2048000,
      "rowLimit": 10000
     },
     "inputWidgets": {},
     "nuid": "0a75eb43-2f1e-407d-b391-c13ce0b71109",
     "showTitle": false,
     "tableResultSettingsMap": {},
     "title": ""
    }
   },
   "outputs": [],
   "source": [
    "bhv_hip_trad.persist(StorageLevel.MEMORY_AND_DISK).count()\n",
    "bhv_hip_trad.groupBy('CODMES', 'CAMPANIA_AGRUPADA_CLI').agg(F.count(\"*\")).show(50)"
   ]
  },
  {
   "cell_type": "code",
   "execution_count": 0,
   "metadata": {
    "application/vnd.databricks.v1+cell": {
     "cellMetadata": {
      "byteLimit": 2048000,
      "rowLimit": 10000
     },
     "inputWidgets": {},
     "nuid": "4ad8cbcb-d541-439b-932c-57bcf729d192",
     "showTitle": false,
     "tableResultSettingsMap": {},
     "title": ""
    }
   },
   "outputs": [],
   "source": [
    "bhv_hip_trad = bhv_hip_trad.select('CODMES', 'CODCLAVECIC', 'CODCLAVECTA', 'CODCLAVEOPECTA', 'CAMPANIA_AGRUPADA_CLI', 'MTOPRINCIPAL_SOLES', 'pd_bhv_hip_25q1_1', 'PD_FABRICA', 'NUMEDADMADURACION_2', 'PERFIL_F2', 'PERFIL_F2_VUL', 'PERFIL_F1', 'FLG_APALANCAMIENTO', 'CODCOSECHA', 'CODCOSECHA_2', 'SEGMENTO_BANCA_F')"
   ]
  },
  {
   "cell_type": "code",
   "execution_count": 0,
   "metadata": {
    "application/vnd.databricks.v1+cell": {
     "cellMetadata": {
      "byteLimit": 2048000,
      "rowLimit": 10000
     },
     "inputWidgets": {},
     "nuid": "a134259d-d3c4-461b-94e1-26f28c03be1d",
     "showTitle": false,
     "tableResultSettingsMap": {},
     "title": ""
    }
   },
   "outputs": [],
   "source": [
    "md_relcodclaveopectadl = spark.table('catalog_lhcl_prod_bcp.bcp_edv_fabseg.T39290_MD_RELCODCLAVEOPECTADL')\n",
    "md_relcodclaveopectadl = md_relcodclaveopectadl.withColumn(\"CODCLAVEOPECTA\", col(\"codclaveopecta\").cast(\"integer\"))\n",
    "\n",
    "# Tabla MIN_MES_DET: Obtener los minimos días de vencimiento \n",
    "hm_saldoprestamo = spark.table('catalog_lhcl_prod_bcp.bcp_udv_int_vu.h_saldocuentacreditopersonal')\n",
    "hm_saldoprestamo = hm_saldoprestamo.withColumn(\"CODMES\", date_format(col(\"FECDIA\"), \"yyyyMM\"))\n",
    "hm_saldoprestamo = hm_saldoprestamo.groupBy(\"CODMES\", \"CODCLAVECTA\", \"CTDDIAVCDA\").agg(max(\"FECDIA\").alias(\"MAX_FECDIA\"))\n",
    "min_mes_det = hm_saldoprestamo.groupBy(\"CODCLAVECTA\").agg(\n",
    "    min(when(col(\"CTDDIAVCDA\") > 8, col(\"CODMES\"))).alias(\"PRIMER_MES_8\"),\n",
    "    min(when(col(\"CTDDIAVCDA\") > 15, col(\"CODMES\"))).alias(\"PRIMER_MES_15\"),\n",
    "    min(when(col(\"CTDDIAVCDA\") > 20, col(\"CODMES\"))).alias(\"PRIMER_MES_20\"),\n",
    "    min(when(col(\"CTDDIAVCDA\") > 30, col(\"CODMES\"))).alias(\"PRIMER_MES_30\")\n",
    ")\n",
    "\n",
    "\n",
    "# Cruzando para homologar el opecta\n",
    "min_mes_det = min_mes_det.join(\n",
    "    md_relcodclaveopectadl.selectExpr(\"CODCLAVECTADL as CODCLAVECTA\", \"CODCLAVEOPECTA\"),\n",
    "    on = [\"CODCLAVECTA\"],\n",
    "    how = 'left'\n",
    ")\n",
    "\n",
    "min_mes_det.persist(StorageLevel.MEMORY_AND_DISK).count()"
   ]
  },
  {
   "cell_type": "code",
   "execution_count": 0,
   "metadata": {
    "application/vnd.databricks.v1+cell": {
     "cellMetadata": {
      "byteLimit": 2048000,
      "rowLimit": 10000
     },
     "inputWidgets": {},
     "nuid": "cd3c4cab-b56a-409b-9388-fad95934f0cb",
     "showTitle": false,
     "tableResultSettingsMap": {},
     "title": ""
    }
   },
   "outputs": [],
   "source": [
    "bhv_hip_trad = bhv_hip_trad.join(\n",
    "    min_mes_det,\n",
    "    on=\"codclaveopecta\",\n",
    "    how='left'\n",
    ")"
   ]
  },
  {
   "cell_type": "code",
   "execution_count": 0,
   "metadata": {
    "application/vnd.databricks.v1+cell": {
     "cellMetadata": {
      "byteLimit": 2048000,
      "rowLimit": 10000
     },
     "inputWidgets": {},
     "nuid": "b8b62908-0f45-4a9b-bad5-5a96053063a4",
     "showTitle": false,
     "tableResultSettingsMap": {},
     "title": ""
    }
   },
   "outputs": [],
   "source": [
    "v_hm_univ_ctas_als = spark.table('catalog_lhcl_prod_bcp.bcp_edv_fabseg.TABLASGE_v_hm_univ_ctas_als')\n",
    "bhv_hip_trad = bhv_hip_trad.join(\n",
    "    v_hm_univ_ctas_als.select(\"CODMES\", \"CODCLAVEOPECTA\", \"CTDDIAATRASO_F1\", \"CTDDIAATRASO_F2\", \"CTDDIAATRASO_F3\"), \n",
    "    on=[\"CODCLAVEOPECTA\", \"CODMES\"], \n",
    "    how='left'\n",
    ")"
   ]
  },
  {
   "cell_type": "code",
   "execution_count": 0,
   "metadata": {
    "application/vnd.databricks.v1+cell": {
     "cellMetadata": {
      "byteLimit": 2048000,
      "rowLimit": 10000
     },
     "inputWidgets": {},
     "nuid": "b711b3aa-4121-4ec2-ade6-36b69bac6594",
     "showTitle": false,
     "tableResultSettingsMap": {},
     "title": ""
    }
   },
   "outputs": [],
   "source": [
    "# Tabla mm_mes_primer_default_norev: Obtener el minimo mes de default\n",
    "mm_portafoliocredito = spark.table('catalog_lhcl_prod_bcp.bcp_ddv_adrmmgr_seginfobasesgenerales_vu.mm_portafoliocredito')\n",
    "\n",
    "mm_mes_primer_default_norev = mm_portafoliocredito.join(\n",
    "    md_relcodclaveopectadl.selectExpr(\"CODCLAVECTADL AS CODCLAVECTA\", \"CODCLAVEOPECTA\"), \n",
    "    on = \"CODCLAVECTA\", \n",
    "    how=\"left\"\n",
    ")\n",
    "bhv_hip_trad = bhv_hip_trad.drop('MIN_MES_DEF_60_BLOQ_REF_ACT')\n",
    "bhv_hip_trad = bhv_hip_trad.join(\n",
    "    mm_mes_primer_default_norev.select(\"codclaveopecta\", coalesce(mm_mes_primer_default_norev[\"CODMESMINDEF60BLOQUEOREFIN\"], lit(999999)).alias(\"MIN_MES_DEF_60_BLOQ_REF_ACT\")),\n",
    "    on=\"codclaveopecta\",\n",
    "    how='left'\n",
    ")"
   ]
  },
  {
   "cell_type": "code",
   "execution_count": 0,
   "metadata": {
    "application/vnd.databricks.v1+cell": {
     "cellMetadata": {
      "byteLimit": 2048000,
      "rowLimit": 10000
     },
     "inputWidgets": {},
     "nuid": "90309bda-3750-4b86-a6b4-64d7e6c788c6",
     "showTitle": false,
     "tableResultSettingsMap": {},
     "title": ""
    }
   },
   "outputs": [],
   "source": [
    "base_seg = base_seg.withColumn(\n",
    "    \"PRIMER_MES_8\", \n",
    "    when(col(\"PRIMER_MES_8\").isNull(), \n",
    "    lit(999999)).otherwise(col(\"PRIMER_MES_8\"))\n",
    ")\n",
    "\n",
    "base_seg = base_seg.withColumn(\n",
    "    \"DISTANCIA_8\", \n",
    "    (F.round(col(\"PRIMER_MES_8\")/100, 0)*12 + (col(\"PRIMER_MES_8\")-F.round(col(\"PRIMER_MES_8\")/100, 0)*100)) - \n",
    "    (F.round(col(\"CODMES\")/100, 0)*12 + (col(\"CODMES\")-F.round(col(\"CODMES\")/100, 0)*100))\n",
    ")\n",
    "\n",
    "base_seg = base_seg.withColumn(\"DET_8_0\", when(col(\"DISTANCIA_8\") <= 0, lit(1)).otherwise(lit(0)))\n",
    "base_seg = base_seg.withColumn(\"DET_8_2\", when(col(\"DISTANCIA_8\") <= 2, lit(1)).otherwise(lit(0)))\n",
    "base_seg = base_seg.withColumn(\"DET_8_3\", when(col(\"DISTANCIA_8\") <= 3, lit(1)).otherwise(lit(0)))\n",
    "base_seg = base_seg.withColumn(\"DET_8_4\", when(col(\"DISTANCIA_8\") <= 4, lit(1)).otherwise(lit(0)))\n",
    "\n",
    "base_seg = base_seg.withColumn(\n",
    "    \"PRIMER_MES_15\", \n",
    "    when(col(\"PRIMER_MES_15\").isNull(), \n",
    "    lit(999999)).otherwise(col(\"PRIMER_MES_15\"))\n",
    ")\n",
    "\n",
    "base_seg = base_seg.withColumn(\n",
    "    \"DISTANCIA_15\", \n",
    "    (F.round(col(\"PRIMER_MES_15\")/100, 0)*12 + (col(\"PRIMER_MES_15\")-F.round(col(\"PRIMER_MES_15\")/100, 0)*100)) - \n",
    "    (F.round(col(\"CODMES\")/100, 0)*12 + (col(\"CODMES\")-F.round(col(\"CODMES\")/100, 0)*100))\n",
    ")\n",
    "\n",
    "base_seg = base_seg.withColumn(\"DET_15_0\", when(col(\"DISTANCIA_15\") <= 0, lit(1)).otherwise(lit(0)))\n",
    "base_seg = base_seg.withColumn(\"DET_15_2\", when(col(\"DISTANCIA_15\") <= 2, lit(1)).otherwise(lit(0)))\n",
    "base_seg = base_seg.withColumn(\"DET_15_3\", when(col(\"DISTANCIA_15\") <= 3, lit(1)).otherwise(lit(0)))\n",
    "base_seg = base_seg.withColumn(\"DET_15_4\", when(col(\"DISTANCIA_15\") <= 4, lit(1)).otherwise(lit(0)))\n",
    "\n",
    "base_seg = base_seg.withColumn(\n",
    "    \"PRIMER_MES_20\", \n",
    "    when(col(\"PRIMER_MES_20\").isNull(), \n",
    "    lit(999999)).otherwise(col(\"PRIMER_MES_20\"))\n",
    ")\n",
    "\n",
    "base_seg = base_seg.withColumn(\n",
    "    \"DISTANCIA_20\", \n",
    "    (F.round(col(\"PRIMER_MES_20\")/100, 0)*12 + (col(\"PRIMER_MES_20\")-F.round(col(\"PRIMER_MES_20\")/100, 0)*100)) - \n",
    "    (F.round(col(\"CODMES\")/100, 0)*12 + (col(\"CODMES\")-F.round(col(\"CODMES\")/100, 0)*100))\n",
    ")\n",
    "\n",
    "\n",
    "base_seg = base_seg.withColumn(\"DET_20_0\", when(col(\"DISTANCIA_20\") <= 0, lit(1)).otherwise(lit(0)))\n",
    "base_seg = base_seg.withColumn(\"DET_20_2\", when(col(\"DISTANCIA_20\") <= 2, lit(1)).otherwise(lit(0)))\n",
    "base_seg = base_seg.withColumn(\"DET_20_3\", when(col(\"DISTANCIA_20\") <= 3, lit(1)).otherwise(lit(0)))\n",
    "base_seg = base_seg.withColumn(\"DET_20_4\", when(col(\"DISTANCIA_20\") <= 4, lit(1)).otherwise(lit(0)))\n",
    "\n",
    "base_seg = base_seg.withColumn(\n",
    "    \"PRIMER_MES_30\", \n",
    "    when(col(\"PRIMER_MES_30\").isNull(), \n",
    "    lit(999999)).otherwise(col(\"PRIMER_MES_30\"))\n",
    ")\n",
    "\n",
    "base_seg = base_seg.withColumn(\n",
    "    \"DISTANCIA_30\", \n",
    "    (F.round(col(\"PRIMER_MES_30\")/100, 0)*12 + (col(\"PRIMER_MES_30\")-F.round(col(\"PRIMER_MES_30\")/100, 0)*100)) - \n",
    "    (F.round(col(\"CODMES\")/100, 0)*12 + (col(\"CODMES\")-F.round(col(\"CODMES\")/100, 0)*100))\n",
    ")\n",
    "\n",
    "base_seg = base_seg.withColumn(\"DET_30_0\", when(col(\"DISTANCIA_30\") <= 0, lit(1)).otherwise(lit(0)))\n",
    "base_seg = base_seg.withColumn(\"DET_30_2\", when(col(\"DISTANCIA_30\") <= 2, lit(1)).otherwise(lit(0)))\n",
    "base_seg = base_seg.withColumn(\"DET_30_3\", when(col(\"DISTANCIA_30\") <= 3, lit(1)).otherwise(lit(0)))\n",
    "base_seg = base_seg.withColumn(\"DET_30_4\", when(col(\"DISTANCIA_30\") <= 4, lit(1)).otherwise(lit(0)))\n",
    "\n",
    "base_seg = base_seg.withColumn('MORA_8_2',F.when(F.greatest(F.col('CTDDIAATRASO_F1'), F.col('CTDDIAATRASO_F2')) >= 8, 1).otherwise(0))\n",
    "base_seg = base_seg.withColumn('MORA_15_2',F.when(F.greatest(F.col('CTDDIAATRASO_F1'), F.col('CTDDIAATRASO_F2')) >= 15, 1).otherwise(0))\n",
    "base_seg = base_seg.withColumn('MORA_20_2',F.when(F.greatest(F.col('CTDDIAATRASO_F1'), F.col('CTDDIAATRASO_F2')) >= 20, 1).otherwise(0))\n",
    "base_seg = base_seg.withColumn('MORA_30_2',F.when(F.greatest(F.col('CTDDIAATRASO_F1'), F.col('CTDDIAATRASO_F2')) >= 30, 1).otherwise(0))\n",
    "base_seg = base_seg.withColumn('MORA_45_2',F.when(F.greatest(F.col('CTDDIAATRASO_F1'), F.col('CTDDIAATRASO_F2')) >= 45, 1).otherwise(0))\n",
    "\n",
    "base_seg = base_seg.withColumn('MORA_1_3',F.when(F.greatest(F.col('CTDDIAATRASO_F1'), F.col('CTDDIAATRASO_F2'), F.col('CTDDIAATRASO_F3'))>= 1, 1).otherwise(0))\n",
    "base_seg = base_seg.withColumn('MORA_8_3',F.when(F.greatest(F.col('CTDDIAATRASO_F1'), F.col('CTDDIAATRASO_F2'), F.col('CTDDIAATRASO_F3'))>= 8, 1).otherwise(0))\n",
    "base_seg = base_seg.withColumn('MORA_15_3',F.when(F.greatest(F.col('CTDDIAATRASO_F1'), F.col('CTDDIAATRASO_F2'), F.col('CTDDIAATRASO_F3'))>= 15, 1).otherwise(0))\n",
    "base_seg = base_seg.withColumn('MORA_20_3',F.when(F.greatest(F.col('CTDDIAATRASO_F1'), F.col('CTDDIAATRASO_F2'), F.col('CTDDIAATRASO_F3'))>= 20, 1).otherwise(0))\n",
    "base_seg = base_seg.withColumn('MORA_30_3',F.when(F.greatest(F.col('CTDDIAATRASO_F1'), F.col('CTDDIAATRASO_F2'), F.col('CTDDIAATRASO_F3'))>= 30, 1).otherwise(0))\n",
    "base_seg = base_seg.withColumn('MORA_45_3',F.when(F.greatest(F.col('CTDDIAATRASO_F1'), F.col('CTDDIAATRASO_F2'), F.col('CTDDIAATRASO_F3'))>= 45, 1).otherwise(0))\n",
    "\n",
    "base_seg.persist(StorageLevel.MEMORY_AND_DISK).count()\n",
    "\n",
    "base_seg = base_seg.withColumn(\n",
    "    \"MIN_MES_DEF\", \n",
    "    when(col(\"MIN_MES_DEF_60_BLOQ_REF_ACT\").isNull(), \n",
    "    lit(999999)).otherwise(col(\"MIN_MES_DEF_60_BLOQ_REF_ACT\"))\n",
    ")\n",
    "\n",
    "base_seg = base_seg.withColumn(\n",
    "    \"DISTANCIA_DEF\", \n",
    "    (F.round(col(\"MIN_MES_DEF\")/100, 0)*12 + (col(\"MIN_MES_DEF\")-F.round(col(\"MIN_MES_DEF\")/100, 0)*100)) - \n",
    "    (F.round(col(\"CODMES\")/100, 0)*12 + (col(\"CODMES\")-F.round(col(\"CODMES\")/100, 0)*100))\n",
    ")\n",
    "\n",
    "base_seg = base_seg.withColumn(\"DEF12\", when(col(\"DISTANCIA_DEF\") <= 12, lit(1)).otherwise(lit(0)))\n",
    "base_seg = base_seg.withColumn(\"DEF11\", when(col(\"DISTANCIA_DEF\") <= 11, lit(1)).otherwise(lit(0)))\n",
    "base_seg = base_seg.withColumn(\"DEF10\", when(col(\"DISTANCIA_DEF\") <= 10, lit(1)).otherwise(lit(0)))\n",
    "base_seg = base_seg.withColumn(\"DEF9\", when(col(\"DISTANCIA_DEF\") <= 9, lit(1)).otherwise(lit(0)))\n",
    "base_seg = base_seg.withColumn(\"DEF8\", when(col(\"DISTANCIA_DEF\") <= 8, lit(1)).otherwise(lit(0)))\n",
    "base_seg = base_seg.withColumn(\"DEF7\", when(col(\"DISTANCIA_DEF\") <= 7, lit(1)).otherwise(lit(0)))\n",
    "base_seg = base_seg.withColumn(\"DEF6\", when(col(\"DISTANCIA_DEF\") <= 6, lit(1)).otherwise(lit(0)))\n",
    "base_seg = base_seg.withColumn(\"DEF5\", when(col(\"DISTANCIA_DEF\") <= 5, lit(1)).otherwise(lit(0)))\n",
    "base_seg = base_seg.withColumn(\"DEF4\", when(col(\"DISTANCIA_DEF\") <= 4, lit(1)).otherwise(lit(0)))\n",
    "base_seg = base_seg.withColumn(\"DEF3\", when(col(\"DISTANCIA_DEF\") <= 3, lit(1)).otherwise(lit(0)))\n",
    "\n",
    "# Def foto\n",
    "base_seg = base_seg.withColumn(\"DEF_60_BLOQ_REF_0\", when(col(\"DISTANCIA_DEF\") <= 0, lit(1)).otherwise(lit(0)))\n",
    "\n",
    "base_seg.persist(StorageLevel.MEMORY_AND_DISK).count()"
   ]
  },
  {
   "cell_type": "code",
   "execution_count": 0,
   "metadata": {
    "application/vnd.databricks.v1+cell": {
     "cellMetadata": {
      "byteLimit": 2048000,
      "rowLimit": 10000
     },
     "inputWidgets": {},
     "nuid": "53bcd306-0266-4191-a892-1a7b15e7cb2f",
     "showTitle": false,
     "tableResultSettingsMap": {},
     "title": ""
    }
   },
   "outputs": [],
   "source": [
    "bhv_hip_trad = bhv_hip_trad.drop(\"codclavecta\")\n",
    "bhv_hip_trad.createOrReplaceTempView('temp_view')\n",
    "spark.sql(\"CREATE OR REPLACE TABLE catalog_lhcl_prod_bcp.bcp_edv_fabseg.T45988_base_bhv_hip_202505 LOCATION 'abfss://bcp-edv-fabseg@adlscu1lhclbackp05.dfs.core.windows.net/HIPOTECARIO_2025/BHV/202505/base_bhv_hip' AS SELECT * FROM temp_view\")"
   ]
  },
  {
   "cell_type": "code",
   "execution_count": 0,
   "metadata": {
    "application/vnd.databricks.v1+cell": {
     "cellMetadata": {
      "byteLimit": 2048000,
      "rowLimit": 10000
     },
     "inputWidgets": {},
     "nuid": "f542acbd-578e-4611-87bb-59bd51844237",
     "showTitle": false,
     "tableResultSettingsMap": {},
     "title": ""
    }
   },
   "outputs": [],
   "source": [
    "hip_f = spark.table('catalog_lhcl_prod_bcp.bcp_edv_fabseg.T45988_base_bhv_hip_202505')"
   ]
  },
  {
   "cell_type": "code",
   "execution_count": 0,
   "metadata": {
    "application/vnd.databricks.v1+cell": {
     "cellMetadata": {
      "byteLimit": 2048000,
      "rowLimit": 10000
     },
     "inputWidgets": {},
     "nuid": "bd779975-dfb2-42bb-aecc-dd8762cf7abc",
     "showTitle": false,
     "tableResultSettingsMap": {},
     "title": ""
    }
   },
   "outputs": [],
   "source": [
    "pd_vig='PD_FABRICA' #PD_CEF_FWL PD_BHV_FWL\n",
    "pd_cal='pd_bhv_hip_25q1_1'# en uso \n",
    "pd_trc='XB_BHV_CLI_HIP_6012_V2'\n",
    "tipo_banda = 'Vasiseck'#Jeffrey Vasiseck\n",
    "codmes_default = 202405\n",
    "columna_monto='MTOPRINCIPAL_SOLES'\n",
    "titulo='Calibración Behavior Hipotecario'"
   ]
  },
  {
   "cell_type": "code",
   "execution_count": 0,
   "metadata": {
    "application/vnd.databricks.v1+cell": {
     "cellMetadata": {
      "byteLimit": 2048000,
      "rowLimit": 10000
     },
     "inputWidgets": {},
     "nuid": "180e8a7e-17b6-41a8-b912-91834474b139",
     "showTitle": false,
     "tableResultSettingsMap": {},
     "title": ""
    }
   },
   "outputs": [],
   "source": [
    "# Objeto de Seguimiento\n",
    "Obj_Seg = rmm.MonitorScore_v01(\n",
    "  nombre_modelo         = 'Personas Modelo Behavior',\n",
    "  codigo_modelo         = 'MOD-BCP-20658',\n",
    "  tier                  = 'II',\n",
    "  detalle_seguimiento   = 'Seguimiento Behavior',\n",
    "  mes_seguimiento       = '202502',\n",
    "  base_monitoreo        = hip_f,\n",
    "  pd1                   = pd_cal,\n",
    "  pd2                   = pd_vig,\n",
    "  monto_credito         = columna_monto,\n",
    "  query_univ            = \"CODMES >= 202201 AND DEF_60_BLOQ_REF_0=0 AND NUMEDADMADURACION_2>0\",\n",
    "  bandas                = tipo_banda,\n",
    "  codmes_default        = codmes_default,\n",
    "  meses_ventana_target  = 12,\n",
    "  meses_atraso_target   = 2\n",
    ")"
   ]
  },
  {
   "cell_type": "code",
   "execution_count": 0,
   "metadata": {
    "application/vnd.databricks.v1+cell": {
     "cellMetadata": {
      "byteLimit": 2048000,
      "rowLimit": 10000
     },
     "inputWidgets": {},
     "nuid": "e4f0b304-a506-4f11-9fe9-c611411295fe",
     "showTitle": false,
     "tableResultSettingsMap": {},
     "title": ""
    }
   },
   "outputs": [],
   "source": [
    "hm_bhv_cli_cal, rc, rm, fc_1_trad, fm_1_trad = Obj_Seg.EvolCal(\n",
    "  # Configuración de filtro de uso y pd de calibración\n",
    "  query_uso          = \"CODMES >= 202205\",\n",
    "  pd_seg             = pd_vig,\n",
    "  pd_comparacion     = False,\n",
    "  proys_def_temp     = 6,\n",
    "  proys_mor_temp     = 3,\n",
    "  rd_aux             = 'RD6',\n",
    "  rd_aux2            = 'MORA_30_3',\n",
    "  mora_temp          = 'MORA_30_3',\n",
    "\n",
    "  # Configuración de proyecciones por cuentas\n",
    "  proy_def_temp_xc   = 'Best_proy',\n",
    "  suav_def_temp_xc   = 1,\n",
    "  proy_mor_temp_xc   = 'Best_proy',\n",
    "  suav_mor_temp_xc   = 1,\n",
    "  prof_hist_xc       = 14,\n",
    "\n",
    "  # Configuración de proyecciones por montos\n",
    "  proy_def_temp_xm   = 'Best_proy',\n",
    "  suav_def_temp_xm   = 1,\n",
    "  proy_mor_temp_xm   = 'Best_proy',\n",
    "  suav_mor_temp_xm   = 1,\n",
    "  prof_hist_xm       = 14,\n",
    "\n",
    "  # Detalles del gráfico de calibración\n",
    "  titulo             = 'Calibración Behavior Hipotercario Ahorro Local',\n",
    "  pos_leyenda        = (0.5, -0.25),\n",
    "  eje_y_xc           = 0.08,\n",
    "  eje_y_xm           = 0.08,\n",
    "  dim_grafico        = (22.5, 6),\n",
    "  punt_mora          = 85,\n",
    "  etiquetas          = True,\n",
    "  tamaño_etiqueta    = 14,\n",
    "\n",
    "  # Exportar factores para vista driver\n",
    "  exportar_factores  = True\n",
    ")"
   ]
  },
  {
   "cell_type": "code",
   "execution_count": 0,
   "metadata": {
    "application/vnd.databricks.v1+cell": {
     "cellMetadata": {
      "byteLimit": 2048000,
      "rowLimit": 10000
     },
     "inputWidgets": {},
     "nuid": "ab548fca-85c7-486a-8244-49f7e9a64cb7",
     "showTitle": false,
     "tableResultSettingsMap": {},
     "title": ""
    }
   },
   "outputs": [],
   "source": [
    "rm"
   ]
  },
  {
   "cell_type": "code",
   "execution_count": 0,
   "metadata": {
    "application/vnd.databricks.v1+cell": {
     "cellMetadata": {
      "byteLimit": 2048000,
      "rowLimit": 10000
     },
     "inputWidgets": {},
     "nuid": "f563337a-e885-45e8-ad60-760900aa2900",
     "showTitle": false,
     "tableResultSettingsMap": {},
     "title": ""
    }
   },
   "outputs": [],
   "source": [
    "rc"
   ]
  },
  {
   "cell_type": "code",
   "execution_count": 0,
   "metadata": {
    "application/vnd.databricks.v1+cell": {
     "cellMetadata": {
      "byteLimit": 2048000,
      "rowLimit": 10000
     },
     "inputWidgets": {},
     "nuid": "5c5ea4e0-5d00-4df7-82e6-02618f9d6843",
     "showTitle": false,
     "tableResultSettingsMap": {},
     "title": ""
    }
   },
   "outputs": [],
   "source": [
    "Obj_SegDis, evoldis ,evolks= Obj_Seg.EvolDis(\n",
    "  query_filtro = \"\",\n",
    "  pd_dis       = pd_vig,\n",
    "  codmes_ini   = 202301,\n",
    "  codmes_fin   = 202412,\n",
    "  amplitud     = 1,\n",
    "  disc_target= [12, 9,6],\n",
    "  umbral_sup   = 0.5,\n",
    "  umbral_inf   = 0.4,\n",
    "  moviles      = False,\n",
    "  etiquetas= True,\n",
    "  tamaño_etiqueta=16,\n",
    "  dim_grafico  = (22, 6),\n",
    "  pos_leyenda  = (0.5, -0.3)\n",
    ")"
   ]
  },
  {
   "cell_type": "code",
   "execution_count": 0,
   "metadata": {
    "application/vnd.databricks.v1+cell": {
     "cellMetadata": {
      "byteLimit": 2048000,
      "rowLimit": 10000
     },
     "inputWidgets": {},
     "nuid": "07d7c520-0972-4a13-8238-2cad260670f2",
     "showTitle": false,
     "tableResultSettingsMap": {},
     "title": ""
    }
   },
   "outputs": [],
   "source": [
    "# Objeto de Seguimiento\n",
    "Obj_Seg = rmm.MonitorScore_v01(\n",
    "  nombre_modelo         = 'Personas Modelo Behavior',\n",
    "  codigo_modelo         = 'MOD-BCP-20658',\n",
    "  tier                  = 'II',\n",
    "  detalle_seguimiento   = 'Seguimiento Behavior',\n",
    "  mes_seguimiento       = '202502',\n",
    "  base_monitoreo        = hip_f,\n",
    "  pd1                   = 'CODMES',\n",
    "  pd2                   = 'CODMES',\n",
    "  monto_credito         = columna_monto,\n",
    "  query_univ            = \"CODMES >= 202201 AND DEF_60_BLOQ_REF_0=0 AND NUMEDADMADURACION_2>0\",\n",
    "  bandas                = tipo_banda,\n",
    "  codmes_default        = codmes_default,\n",
    "  meses_ventana_target  = 12,\n",
    "  meses_atraso_target   = 2\n",
    ")"
   ]
  },
  {
   "cell_type": "code",
   "execution_count": 0,
   "metadata": {
    "application/vnd.databricks.v1+cell": {
     "cellMetadata": {
      "byteLimit": 2048000,
      "rowLimit": 10000
     },
     "inputWidgets": {},
     "nuid": "49549d93-11bc-410a-a06d-3e0a967425a4",
     "showTitle": false,
     "tableResultSettingsMap": {},
     "title": ""
    }
   },
   "outputs": [],
   "source": [
    "hm_bhv_cli_cal, rc, rm, fc_1_trad, fm_1_trad = Obj_Seg.EvolCal(\n",
    "  # Configuración de filtro de uso y pd de calibración\n",
    "  query_uso          = \"CODMES >= 202205 AND CAMPANIA_AGRUPADA_CLI='TRADICIONAL'\",\n",
    "  pd_seg             = pd_vig,\n",
    "  pd_comparacion     = False,\n",
    "  proys_def_temp     = 6,\n",
    "  proys_mor_temp     = 3,\n",
    "  rd_aux             = 'RD6',\n",
    "  rd_aux2            = 'MORA_30_3',\n",
    "  mora_temp          = 'MORA_30_3',\n",
    "\n",
    "  # Configuración de proyecciones por cuentas\n",
    "  proy_def_temp_xc   = 'All_proy',\n",
    "  suav_def_temp_xc   = 1,\n",
    "  proy_mor_temp_xc   = 'All_proy',\n",
    "  suav_mor_temp_xc   = 1,\n",
    "  prof_hist_xc       = 14,\n",
    "\n",
    "  # Configuración de proyecciones por montos\n",
    "  proy_def_temp_xm   = 'met3_xm',\n",
    "  suav_def_temp_xm   = 1,\n",
    "  proy_mor_temp_xm   = 'All_proy',\n",
    "  suav_mor_temp_xm   = 1,\n",
    "  prof_hist_xm       = 14,\n",
    "\n",
    "  # Detalles del gráfico de calibración\n",
    "  titulo             = 'Calibración Behavior Hipotercario Tradicional',\n",
    "  pos_leyenda        = (0.5, -0.25),\n",
    "  eje_y_xc           = 0.05,\n",
    "  eje_y_xm           = 0.05,\n",
    "  dim_grafico        = (22.5, 6),\n",
    "  punt_mora          = 85,\n",
    "  etiquetas          = True,\n",
    "  tamaño_etiqueta    = 14,\n",
    "\n",
    "  # Exportar factores para vista driver\n",
    "  exportar_factores  = True\n",
    ")"
   ]
  },
  {
   "cell_type": "code",
   "execution_count": 0,
   "metadata": {
    "application/vnd.databricks.v1+cell": {
     "cellMetadata": {
      "byteLimit": 2048000,
      "rowLimit": 10000
     },
     "inputWidgets": {},
     "nuid": "357a471f-394f-4703-9e4c-1fb498374988",
     "showTitle": false,
     "tableResultSettingsMap": {},
     "title": ""
    }
   },
   "outputs": [],
   "source": [
    "rm"
   ]
  },
  {
   "cell_type": "code",
   "execution_count": 0,
   "metadata": {
    "application/vnd.databricks.v1+cell": {
     "cellMetadata": {
      "byteLimit": 2048000,
      "rowLimit": 10000
     },
     "inputWidgets": {},
     "nuid": "1187dd53-616b-44c9-85ac-787923d68684",
     "showTitle": false,
     "tableResultSettingsMap": {},
     "title": ""
    }
   },
   "outputs": [],
   "source": [
    "# from pyspark.sql.functions import col, concat, lit, to_date, add_months, date_format, when\n",
    "\n",
    "# from pyspark.sql.functions import col, concat, lit, to_date, add_months, date_format, when\n",
    "\n",
    "# Paso 1: Crear columna CODMES_COSECHA\n",
    "Obj_Seg.base_monitoreo = Obj_Seg.base_monitoreo.withColumn(\n",
    "    \"CODMES_COSECHA\", \n",
    "    F.date_format(\n",
    "        add_months(\n",
    "            to_date(F.concat(col(\"CODMES\").cast(\"int\"), lit(\"01\")), \"yyyyMMdd\"),\n",
    "            -col(\"NUMEDADMADURACION_2\").cast(\"int\")\n",
    "        ),\n",
    "        \"yyyyMM\"\n",
    "    ).cast(\"int\")\n",
    ")\n",
    "\n",
    "# Paso 2: Clasificación\n",
    "Obj_Seg.base_monitoreo = Obj_Seg.base_monitoreo.withColumn(\n",
    "    \"COSECHITAS\",\n",
    "    when(col(\"CODMES_COSECHA\") < 202204, \"1. Anterior\")\n",
    "    .when((col(\"CODMES_COSECHA\") >= 202204) & (col(\"CODMES_COSECHA\") <= 202304), \"2. 202204-202304\")\n",
    "    .when(col(\"CODMES_COSECHA\") > 202304, \"3. Posterior\")\n",
    ")\n",
    "\n",
    "from pyspark.sql.functions import concat_ws, substring, when\n",
    "\n",
    "# Extraer año y mes de CODMES_COSECHA\n",
    "Obj_Seg.base_monitoreo = Obj_Seg.base_monitoreo.withColumn(\n",
    "    \"ANIO_COSECHA\", substring(col(\"CODMES_COSECHA\").cast(\"string\"), 1, 4)\n",
    ").withColumn(\n",
    "    \"MES_COSECHA\", substring(col(\"CODMES_COSECHA\").cast(\"string\"), 5, 2).cast(\"int\")\n",
    ")\n",
    "\n",
    "# Determinar el trimestre (Q1 o Q2)\n",
    "Obj_Seg.base_monitoreo = Obj_Seg.base_monitoreo.withColumn(\n",
    "    \"TRIMESTRE_COSECHA\",\n",
    "    when(col(\"MES_COSECHA\").between(1, 6), \"Q1\")\n",
    "    .when(col(\"MES_COSECHA\").between(7, 12), \"Q2\")\n",
    ")\n",
    "\n",
    "# Concatenar año y trimestre\n",
    "Obj_Seg.base_monitoreo = Obj_Seg.base_monitoreo.withColumn(\n",
    "    \"SEMESTRE_COSECHA\",\n",
    "    concat_ws(\"-\", col(\"ANIO_COSECHA\"), col(\"TRIMESTRE_COSECHA\"))\n",
    ")"
   ]
  },
  {
   "cell_type": "code",
   "execution_count": 0,
   "metadata": {
    "application/vnd.databricks.v1+cell": {
     "cellMetadata": {
      "byteLimit": 2048000,
      "rowLimit": 10000
     },
     "inputWidgets": {},
     "nuid": "da6fdd59-cd96-4748-ab13-755c5ca3a3e8",
     "showTitle": false,
     "tableResultSettingsMap": {},
     "title": ""
    }
   },
   "outputs": [],
   "source": [
    "Obj_Seg.base_monitoreo.select(\"codmes\", \"CODMES_COSECHA\", \"NUMEDADMADURACION_2\", \"SEMESTRE_COSECHA\").display()"
   ]
  },
  {
   "cell_type": "code",
   "execution_count": 0,
   "metadata": {
    "application/vnd.databricks.v1+cell": {
     "cellMetadata": {
      "byteLimit": 2048000,
      "rowLimit": 10000
     },
     "inputWidgets": {},
     "nuid": "49763fd9-2cad-4f6a-802f-dbcab9dd6bf5",
     "showTitle": false,
     "tableResultSettingsMap": {},
     "title": ""
    }
   },
   "outputs": [],
   "source": [
    "driver='COSECHITAS'\n",
    "Obj_SegPSI, mix_n, mix_m, psi_c, psi_m = Obj_Seg.MixPSI(\n",
    "  # Selección del driver y filtro de uso\n",
    "  driver             = driver,\n",
    "  query_uso          = \"CODMES >= 202209 AND CAMPANIA_AGRUPADA_CLI='PYME'\",\n",
    "  cast_int           = False,\n",
    "\n",
    "  # Ventana de construcción o más antigua\n",
    "  codmes_inicio1     = 202201,\n",
    "  codmes_fin1        = 202212,\n",
    "\n",
    "  # Periodo reciente\n",
    "  codmes_inicio2     = 202301,\n",
    "  codmes_fin2        = 202412,\n",
    "\n",
    "  # Detalles del gráfico\n",
    "  titulo             = driver,\n",
    "  dim_grafico        = (22.5, 6),\n",
    "  pos_leyenda        = (0.5, -0.25),\n",
    "  etiquetas = True,\n",
    "  borde=0.08\n",
    ")"
   ]
  },
  {
   "cell_type": "code",
   "execution_count": 0,
   "metadata": {
    "application/vnd.databricks.v1+cell": {
     "cellMetadata": {
      "byteLimit": 2048000,
      "rowLimit": 10000
     },
     "collapsed": true,
     "inputWidgets": {},
     "nuid": "01572af6-ef36-4a39-8fe3-4d9a3429cb56",
     "showTitle": false,
     "tableResultSettingsMap": {},
     "title": ""
    }
   },
   "outputs": [],
   "source": [
    "def print_res(sparkf_df):\n",
    "  import pandas as pd\n",
    "  pd.set_option('display.max_rows', None)\n",
    "  pd.set_option('display.max_columns', None)\n",
    "  pd_spark_df = sparkf_df.toPandas()\n",
    "  \n",
    "  return pd_spark_df\n",
    "\n",
    "cubo = Obj_Seg.base_monitoreo.groupBy('CODMES', 'CAMPANIA_AGRUPADA_CLI', 'SEGMENTO_BANCA_F', 'COSECHITAS', 'SEMESTRE_COSECHA').agg(\n",
    "    F.sum('MTOPRINCIPAL_SOLES').alias('M'),\n",
    "    F.count(\"*\").alias('M'),\n",
    "    F.sum('DEF12')*F.sum(col(\"MTOPRINCIPAL_SOLES\")).alias('DEF12'),\n",
    "    F.sum('DEF6')*F.sum(col(\"MTOPRINCIPAL_SOLES\")).alias('DEF6')\n",
    ")\n",
    "\n",
    "print_res(cubo)"
   ]
  },
  {
   "cell_type": "code",
   "execution_count": 0,
   "metadata": {
    "application/vnd.databricks.v1+cell": {
     "cellMetadata": {
      "byteLimit": 2048000,
      "rowLimit": 10000
     },
     "inputWidgets": {},
     "nuid": "f1c512f2-0951-4f27-951d-7eee37d6c119",
     "showTitle": false,
     "tableResultSettingsMap": {},
     "title": ""
    }
   },
   "outputs": [],
   "source": [
    "hm_bhv_cli_cal, rc, rm, fc_1_trad, fm_1_trad = Obj_Seg.EvolCal(\n",
    "  # Configuración de filtro de uso y pd de calibración\n",
    "  query_uso          = \"CODMES >= 202205 AND CAMPANIA_AGRUPADA_CLI = 'TRADICIONAL' AND PERFIL_F1 = 'APALANCADO CON CEF'\",\n",
    "  pd_seg             = pd_vig,\n",
    "  pd_comparacion     = False,\n",
    "  proys_def_temp     = 6,\n",
    "  proys_mor_temp     = 3,\n",
    "  rd_aux             = 'RD6',\n",
    "  rd_aux2            = 'MORA_30_3',\n",
    "  mora_temp          = 'MORA_30_3',\n",
    "\n",
    "  # Configuración de proyecciones por cuentas\n",
    "  proy_def_temp_xc   = 'Best_proy',\n",
    "  suav_def_temp_xc   = 1,\n",
    "  proy_mor_temp_xc   = 'det2_xc*0.7',\n",
    "  suav_mor_temp_xc   = 1,\n",
    "  prof_hist_xc       = 14,\n",
    "\n",
    "  # Configuración de proyecciones por montos\n",
    "  proy_def_temp_xm   = 'met3_xm',\n",
    "  suav_def_temp_xm   = 1,\n",
    "  proy_mor_temp_xm   = 'det3_xm',\n",
    "  suav_mor_temp_xm   = 1,\n",
    "  prof_hist_xm       = 14,\n",
    "\n",
    "  # Detalles del gráfico de calibración\n",
    "  titulo             = 'Calibración Behavior Hipotercario Tradicional',\n",
    "  pos_leyenda        = (0.5, -0.25),\n",
    "  eje_y_xc           = 0.12,\n",
    "  eje_y_xm           = 0.12,\n",
    "  dim_grafico        = (22.5, 6),\n",
    "  punt_mora          = 85,\n",
    "  etiquetas          = True,\n",
    "  tamaño_etiqueta    = 14,\n",
    "\n",
    "  # Exportar factores para vista driver\n",
    "  exportar_factores  = True\n",
    ")"
   ]
  },
  {
   "cell_type": "code",
   "execution_count": 0,
   "metadata": {
    "application/vnd.databricks.v1+cell": {
     "cellMetadata": {
      "byteLimit": 2048000,
      "rowLimit": 10000
     },
     "inputWidgets": {},
     "nuid": "e9b34636-9f4c-411b-b6b0-35c17ef333d0",
     "showTitle": false,
     "tableResultSettingsMap": {},
     "title": ""
    }
   },
   "outputs": [],
   "source": [
    "hm_bhv_cli_cal, rc, rm, fc_2_trad, fm_2_trad = Obj_Seg.EvolCal(\n",
    "  # Configuración de filtro de uso y pd de calibración\n",
    "  query_uso          = \"CODMES >= 202205 AND CAMPANIA_AGRUPADA_CLI = 'TRADICIONAL' AND PERFIL_F1 = 'APALANCADO EN RCC'\",\n",
    "  pd_seg             = pd_vig,\n",
    "  pd_comparacion     = False,\n",
    "  proys_def_temp     = 6,\n",
    "  proys_mor_temp     = 3,\n",
    "  rd_aux             = 'RD6',\n",
    "  rd_aux2            = 'MORA_30_3',\n",
    "  mora_temp          = 'MORA_30_3',\n",
    "\n",
    "  # Configuración de proyecciones por cuentas\n",
    "  proy_def_temp_xc   = 'Best_proy',\n",
    "  suav_def_temp_xc   = 1,\n",
    "  proy_mor_temp_xc   = 'Best_proy',\n",
    "  suav_mor_temp_xc   = 1,\n",
    "  prof_hist_xc       = 14,\n",
    "\n",
    "  # Configuración de proyecciones por montos\n",
    "  proy_def_temp_xm   = 'met3_xm',\n",
    "  suav_def_temp_xm   = 1,\n",
    "  proy_mor_temp_xm   = \"np.where(calxmontos['CODMES']==202502, det3_xm*1.05, det3_xm)\",\n",
    "  suav_mor_temp_xm   = 1,\n",
    "  prof_hist_xm       = 14,\n",
    "\n",
    "  # Detalles del gráfico de calibración\n",
    "  titulo             = 'Calibración Behavior Hipotercario Tradicional',\n",
    "  pos_leyenda        = (0.5, -0.25),\n",
    "  eje_y_xc           = 0.12,\n",
    "  eje_y_xm           = 0.12,\n",
    "  dim_grafico        = (22.5, 6),\n",
    "  punt_mora          = 85,\n",
    "  etiquetas          = True,\n",
    "  tamaño_etiqueta    = 14,\n",
    "\n",
    "  # Exportar factores para vista driver\n",
    "  exportar_factores  = True\n",
    ")"
   ]
  },
  {
   "cell_type": "code",
   "execution_count": 0,
   "metadata": {
    "application/vnd.databricks.v1+cell": {
     "cellMetadata": {
      "byteLimit": 2048000,
      "rowLimit": 10000
     },
     "inputWidgets": {},
     "nuid": "2a8a6d73-a22b-47b9-9282-e06a980ea929",
     "showTitle": false,
     "tableResultSettingsMap": {},
     "title": ""
    }
   },
   "outputs": [],
   "source": [
    "hm_bhv_cli_cal, rc, rm, fc_3_trad, fm_3_trad = Obj_Seg.EvolCal(\n",
    "  # Configuración de filtro de uso y pd de calibración\n",
    "  query_uso          = \"CODMES >= 202205 AND CAMPANIA_AGRUPADA_CLI = 'TRADICIONAL' AND PERFIL_F1 = 'NO APALANCADO'\",\n",
    "  pd_seg             = pd_vig,\n",
    "  pd_comparacion     = False,\n",
    "  proys_def_temp     = 6,\n",
    "  proys_mor_temp     = 3,\n",
    "  rd_aux             = 'RD6',\n",
    "  rd_aux2            = 'MORA_30_3',\n",
    "  mora_temp          = 'MORA_30_3',\n",
    "\n",
    "  # Configuración de proyecciones por cuentas\n",
    "  proy_def_temp_xc   = 'Best_proy',\n",
    "  suav_def_temp_xc   = 1,\n",
    "  proy_mor_temp_xc   = 'Best_proy',\n",
    "  suav_mor_temp_xc   = 1,\n",
    "  prof_hist_xc       = 14,\n",
    "\n",
    "  # Configuración de proyecciones por montos\n",
    "  proy_def_temp_xm   = 'met3_xm*0.95',\n",
    "  suav_def_temp_xm   = 1,\n",
    "  proy_mor_temp_xm   = 'det3_xm*1.1',\n",
    "  suav_mor_temp_xm   = 1,\n",
    "  prof_hist_xm       = 14,\n",
    "\n",
    "  # Detalles del gráfico de calibración\n",
    "  titulo             = 'Calibración Behavior Hipotercario Tradicional',\n",
    "  pos_leyenda        = (0.5, -0.25),\n",
    "  eje_y_xc           = 0.05,\n",
    "  eje_y_xm           = 0.05,\n",
    "  dim_grafico        = (22.5, 6),\n",
    "  punt_mora          = 85,\n",
    "  etiquetas          = True,\n",
    "  tamaño_etiqueta    = 14,\n",
    "\n",
    "  # Exportar factores para vista driver\n",
    "  exportar_factores  = True\n",
    ")"
   ]
  },
  {
   "cell_type": "code",
   "execution_count": 0,
   "metadata": {
    "application/vnd.databricks.v1+cell": {
     "cellMetadata": {
      "byteLimit": 2048000,
      "rowLimit": 10000
     },
     "inputWidgets": {},
     "nuid": "09d9e0ce-f035-4bc7-a8ca-d68d54bc957a",
     "showTitle": false,
     "tableResultSettingsMap": {},
     "title": ""
    }
   },
   "outputs": [],
   "source": [
    "hm_bhv_cli_cal, rc, rm, fc_4_trad, fm_4_trad = Obj_Seg.EvolCal(\n",
    "  # Configuración de filtro de uso y pd de calibración\n",
    "  query_uso          = \"CODMES >= 202205 AND CAMPANIA_AGRUPADA_CLI = 'TRADICIONAL' AND PERFIL_F1 <> 'NO APALANCADO'\",\n",
    "  pd_seg             = pd_vig,\n",
    "  pd_comparacion     = False,\n",
    "  proys_def_temp     = 6,\n",
    "  proys_mor_temp     = 3,\n",
    "  rd_aux             = 'RD6',\n",
    "  rd_aux2            = 'MORA_30_3',\n",
    "  mora_temp          = 'MORA_30_3',\n",
    "\n",
    "  # Configuración de proyecciones por cuentas\n",
    "  proy_def_temp_xc   = 'Best_proy',\n",
    "  suav_def_temp_xc   = 1,\n",
    "  proy_mor_temp_xc   = 'Best_proy',\n",
    "  suav_mor_temp_xc   = 1,\n",
    "  prof_hist_xc       = 14,\n",
    "\n",
    "  # Configuración de proyecciones por montos\n",
    "  proy_def_temp_xm   = 'met3_xm',\n",
    "  suav_def_temp_xm   = 1,\n",
    "  proy_mor_temp_xm   = 'det3_xm',\n",
    "  suav_mor_temp_xm   = 1,\n",
    "  prof_hist_xm       = 14,\n",
    "\n",
    "  # Detalles del gráfico de calibración\n",
    "  titulo             = 'Calibración Behavior Hipotercario Tradicional',\n",
    "  pos_leyenda        = (0.5, -0.25),\n",
    "  eje_y_xc           = 0.07,\n",
    "  eje_y_xm           = 0.07,\n",
    "  dim_grafico        = (22.5, 6),\n",
    "  punt_mora          = 85,\n",
    "  etiquetas          = True,\n",
    "  tamaño_etiqueta    = 14,\n",
    "\n",
    "  # Exportar factores para vista driver\n",
    "  exportar_factores  = True\n",
    ")"
   ]
  },
  {
   "cell_type": "code",
   "execution_count": 0,
   "metadata": {
    "application/vnd.databricks.v1+cell": {
     "cellMetadata": {
      "byteLimit": 2048000,
      "rowLimit": 10000
     },
     "inputWidgets": {},
     "nuid": "b49ff60c-a2ed-4480-b3e0-2a85ad5b27ff",
     "showTitle": false,
     "tableResultSettingsMap": {},
     "title": ""
    }
   },
   "outputs": [],
   "source": [
    "hm_bhv_cli_cal, rc, rm, fc_trad, fm_trad = Obj_Seg.EvolCal(\n",
    "  # Configuración de filtro de uso y pd de calibración\n",
    "  query_uso          = \"CODMES >= 202205 AND CAMPANIA_AGRUPADA_CLI = 'TRADICIONAL'\",\n",
    "  pd_seg             = pd_vig,\n",
    "  pd_comparacion     = False,\n",
    "  proys_def_temp     = 6,\n",
    "  proys_mor_temp     = 3,\n",
    "  rd_aux             = 'RD6',\n",
    "  rd_aux2            = 'MORA_30_3',\n",
    "  mora_temp          = 'MORA_30_3',\n",
    "\n",
    "  # Configuración de proyecciones por cuentas\n",
    "  proy_def_temp_xc   = 'met3_xc',\n",
    "  suav_def_temp_xc   = 1,\n",
    "  proy_mor_temp_xc   = 'det3_xc',\n",
    "  suav_mor_temp_xc   = 1,\n",
    "  prof_hist_xc       = 14,\n",
    "  fact_to_proy_xc    = [fc_3_trad, fc_4_trad],\n",
    "\n",
    "\n",
    "  # Configuración de proyecciones por montos\n",
    "  proy_def_temp_xm   = 'met3_xm*0.95',\n",
    "  suav_def_temp_xm   = 1,\n",
    "  proy_mor_temp_xm   = 'det3_xm*0.9',\n",
    "  suav_mor_temp_xm   = 1,\n",
    "  prof_hist_xm       = 14,\n",
    "  fact_to_proy_xm    = [fm_3_trad, fm_4_trad],\n",
    "\n",
    "  # Detalles del gráfico de calibración\n",
    "  titulo             = 'Calibración Behavior Hipotercario Tradicional',\n",
    "  pos_leyenda        = (0.5, -0.25),\n",
    "  eje_y_xc           = 0.05,\n",
    "  eje_y_xm           = 0.05,\n",
    "  dim_grafico        = (22.5, 6),\n",
    "  punt_mora          = 85,\n",
    "  etiquetas          = True,\n",
    "  tamaño_etiqueta    = 14,\n",
    "\n",
    "  # Exportar factores para vista driver\n",
    "  exportar_factores  = True\n",
    ")"
   ]
  },
  {
   "cell_type": "code",
   "execution_count": 0,
   "metadata": {
    "application/vnd.databricks.v1+cell": {
     "cellMetadata": {
      "byteLimit": 2048000,
      "rowLimit": 10000
     },
     "inputWidgets": {},
     "nuid": "703ac400-6560-4e05-8fcd-fc999ff4cde6",
     "showTitle": false,
     "tableResultSettingsMap": {},
     "title": ""
    }
   },
   "outputs": [],
   "source": [
    "driver='PERFIL_F1'\n",
    "Obj_SegPSI, mix_n, mix_m, psi_c, psi_m = Obj_Seg.MixPSI(\n",
    "  # Selección del driver y filtro de uso\n",
    "  driver             = driver,\n",
    "  query_uso          = \"CODMES >= 202201 AND CAMPANIA_AGRUPADA_CLI='TRADICIONAL'\",\n",
    "  cast_int           = False,\n",
    "\n",
    "  # Ventana de construcción o más antigua\n",
    "  codmes_inicio1     = 202201,\n",
    "  codmes_fin1        = 202212,\n",
    "\n",
    "  # Periodo reciente\n",
    "  codmes_inicio2     = 202301,\n",
    "  codmes_fin2        = 202412,\n",
    "\n",
    "  # Detalles del gráfico\n",
    "  titulo             = driver,\n",
    "  dim_grafico        = (22.5, 6),\n",
    "  pos_leyenda        = (0.5, -0.25),\n",
    "  etiquetas = True\n",
    ")"
   ]
  },
  {
   "cell_type": "code",
   "execution_count": 0,
   "metadata": {
    "application/vnd.databricks.v1+cell": {
     "cellMetadata": {
      "byteLimit": 2048000,
      "rowLimit": 10000
     },
     "inputWidgets": {},
     "nuid": "0b0822f4-92e2-4bad-a110-6e3634aaa781",
     "showTitle": false,
     "tableResultSettingsMap": {},
     "title": ""
    }
   },
   "outputs": [],
   "source": [
    "Obj_SegDis, evoldis ,evolks= Obj_Seg.EvolDis(\n",
    "  query_filtro = \"CAMPANIA_AGRUPADA_CLI='TRADICIONAL'\",\n",
    "  pd_dis       = pd_vig,\n",
    "  codmes_ini   = 202301,\n",
    "  codmes_fin   = 202412,\n",
    "  amplitud     = 1,\n",
    "  disc_target= [12, 9,6],\n",
    "  umbral_sup   = 0.5,\n",
    "  umbral_inf   = 0.4,\n",
    "  moviles      = False,\n",
    "  etiquetas= True,\n",
    "  tamaño_etiqueta=16,\n",
    "  dim_grafico  = (22, 6),\n",
    "  pos_leyenda  = (0.5, -0.3)\n",
    ")"
   ]
  },
  {
   "cell_type": "code",
   "execution_count": 0,
   "metadata": {
    "application/vnd.databricks.v1+cell": {
     "cellMetadata": {
      "byteLimit": 2048000,
      "rowLimit": 10000
     },
     "inputWidgets": {},
     "nuid": "58579cf8-1e30-46dc-a831-b07e4c6fe13e",
     "showTitle": false,
     "tableResultSettingsMap": {},
     "title": ""
    }
   },
   "outputs": [],
   "source": [
    "Obj_SegDis, evoldis ,evolks = Obj_Seg.EvolDis(\n",
    "  query_filtro = \"CODMES>=202101 AND CAMPANIA_AGRUPADA_CLI='TRADICIONAL' and PERFIL_F2='NO APALANCADO' \",\n",
    "  pd_dis       = pd_vig,\n",
    "  codmes_ini   = 202301,\n",
    "  codmes_fin   = 202412,\n",
    "  amplitud     = 1,\n",
    "  disc_target= [12, 9,6],\n",
    "  umbral_sup   = 0.5,\n",
    "  umbral_inf   = 0.4,\n",
    "  moviles      = False,\n",
    "  eje_gini_max = 1,\n",
    "  etiquetas= True,\n",
    "  tamaño_etiqueta=20,\n",
    "  dim_grafico  = (22, 6),\n",
    "  pos_leyenda  = (0.5, -0.3)\n",
    ")"
   ]
  },
  {
   "cell_type": "code",
   "execution_count": 0,
   "metadata": {
    "application/vnd.databricks.v1+cell": {
     "cellMetadata": {
      "byteLimit": 2048000,
      "rowLimit": 10000
     },
     "inputWidgets": {},
     "nuid": "832dbe46-d133-45d3-b01d-120d7959640d",
     "showTitle": false,
     "tableResultSettingsMap": {},
     "title": ""
    }
   },
   "outputs": [],
   "source": [
    "Obj_SegDis, evoldis ,evolks = Obj_Seg.EvolDis(\n",
    "  query_filtro = \"CODMES>=202101 AND CAMPANIA_AGRUPADA_CLI='TRADICIONAL' and PERFIL_F2<>'NO APALANCADO' \",\n",
    "  pd_dis       = pd_vig,\n",
    "  codmes_ini   = 202301,\n",
    "  codmes_fin   = 202412,\n",
    "  amplitud     = 1,\n",
    "  disc_target= [12, 9,6],\n",
    "  umbral_sup   = 0.5,\n",
    "  umbral_inf   = 0.4,\n",
    "  moviles      = False,\n",
    "  eje_gini_max = 1,\n",
    "  etiquetas= True,\n",
    "  tamaño_etiqueta=20,\n",
    "  dim_grafico  = (22, 6),\n",
    "  pos_leyenda  = (0.5, -0.3)\n",
    ")"
   ]
  },
  {
   "cell_type": "code",
   "execution_count": 0,
   "metadata": {
    "application/vnd.databricks.v1+cell": {
     "cellMetadata": {
      "byteLimit": 2048000,
      "rowLimit": 10000
     },
     "inputWidgets": {},
     "nuid": "260be980-253b-4ba8-8294-80251217a4d5",
     "showTitle": false,
     "tableResultSettingsMap": {},
     "title": ""
    }
   },
   "outputs": [],
   "source": [
    "# Objeto de Seguimiento\n",
    "Obj_Seg = rmm.MonitorScore_v01(\n",
    "  nombre_modelo         = 'Personas Modelo Behavior',\n",
    "  codigo_modelo         = 'MOD-BCP-20658',\n",
    "  tier                  = 'II',\n",
    "  detalle_seguimiento   = 'Seguimiento Behavior',\n",
    "  mes_seguimiento       = '202502',\n",
    "  base_monitoreo        = hip_f,\n",
    "  pd1                   = pd_cal,\n",
    "  pd2                   = pd_vig,\n",
    "  monto_credito         = columna_monto,\n",
    "  query_univ            = \"CODMES >= 202201 AND DEF_60_BLOQ_REF_0=0 AND NUMEDADMADURACION_2>0 AND CAMPANIA_AGRUPADA_CLI = 'PYME'\",\n",
    "  bandas                = tipo_banda,\n",
    "  codmes_default        = codmes_default,\n",
    "  meses_ventana_target  = 12,\n",
    "  meses_atraso_target   = 2\n",
    ")"
   ]
  },
  {
   "cell_type": "code",
   "execution_count": 0,
   "metadata": {
    "application/vnd.databricks.v1+cell": {
     "cellMetadata": {
      "byteLimit": 2048000,
      "rowLimit": 10000
     },
     "inputWidgets": {},
     "nuid": "dacb063f-48c3-4f0a-a630-f1074e08579b",
     "showTitle": false,
     "tableResultSettingsMap": {},
     "title": ""
    }
   },
   "outputs": [],
   "source": [
    "hm_bhv_cli_cal, rc, rm, fc_1_pyme, fm_1_pyme = Obj_Seg.EvolCal(\n",
    "  # Configuración de filtro de uso y pd de calibración\n",
    "  query_uso          = \"CODMES >= 202205 AND CAMPANIA_AGRUPADA_CLI = 'PYME' AND PERFIL_F1 = 'NO APALANCADO'\",\n",
    "  pd_seg             = pd_vig,\n",
    "  pd_comparacion     = False,\n",
    "  proys_def_temp     = 6,\n",
    "  proys_mor_temp     = 3,\n",
    "  rd_aux             = 'RD6',\n",
    "  rd_aux2            = 'MORA_30_3',\n",
    "  mora_temp          = 'MORA_30_3',\n",
    "\n",
    "  # Configuración de proyecciones por cuentas\n",
    "  proy_def_temp_xc   = 'All_proy',\n",
    "  suav_def_temp_xc   = 1,\n",
    "  proy_mor_temp_xc   = 'All_proy',\n",
    "  suav_mor_temp_xc   = 1,\n",
    "  prof_hist_xc       = 14,\n",
    "\n",
    "  # Configuración de proyecciones por montos\n",
    "  proy_def_temp_xm   = 'met2_xm',\n",
    "  suav_def_temp_xm   = 1,\n",
    "  proy_mor_temp_xm   = 'det3_xm*0.95',\n",
    "  suav_mor_temp_xm   = 1,\n",
    "  prof_hist_xm       = 14,\n",
    "\n",
    "  # Detalles del gráfico de calibración\n",
    "  titulo             = 'Calibración Behavior Hipotercario Tradicional',\n",
    "  pos_leyenda        = (0.5, -0.25),\n",
    "  eje_y_xc           = 0.08,\n",
    "  eje_y_xm           = 0.08,\n",
    "  dim_grafico        = (22.5, 6),\n",
    "  punt_mora          = 85,\n",
    "  etiquetas          = True,\n",
    "  tamaño_etiqueta    = 14,\n",
    "\n",
    "  # Exportar factores para vista driver\n",
    "  exportar_factores  = True\n",
    ")"
   ]
  },
  {
   "cell_type": "code",
   "execution_count": 0,
   "metadata": {
    "application/vnd.databricks.v1+cell": {
     "cellMetadata": {
      "byteLimit": 2048000,
      "rowLimit": 10000
     },
     "inputWidgets": {},
     "nuid": "8b47d68a-6287-48a2-b90f-18787f5019b8",
     "showTitle": false,
     "tableResultSettingsMap": {},
     "title": ""
    }
   },
   "outputs": [],
   "source": [
    "hm_bhv_cli_cal, rc, rm, fc_2_pyme, fm_2_pyme = Obj_Seg.EvolCal(\n",
    "  # Configuración de filtro de uso y pd de calibración\n",
    "  query_uso          = \"CODMES >= 202205 AND CAMPANIA_AGRUPADA_CLI = 'PYME' AND PERFIL_F1 <> 'NO APALANCADO'\",\n",
    "  pd_seg             = pd_vig,\n",
    "  pd_comparacion     = False,\n",
    "  proys_def_temp     = 6,\n",
    "  proys_mor_temp     = 3,\n",
    "  rd_aux             = 'RD6',\n",
    "  rd_aux2            = 'MORA_30_3',\n",
    "  mora_temp          = 'MORA_30_3',\n",
    "\n",
    "  # Configuración de proyecciones por cuentas\n",
    "  proy_def_temp_xc   = 'All_proy',\n",
    "  suav_def_temp_xc   = 1,\n",
    "  proy_mor_temp_xc   = 'All_proy',\n",
    "  suav_mor_temp_xc   = 1,\n",
    "  prof_hist_xc       = 14,\n",
    "\n",
    "  # Configuración de proyecciones por montos\n",
    "  proy_def_temp_xm   = 'met2_xm',\n",
    "  suav_def_temp_xm   = 0.5,\n",
    "  proy_mor_temp_xm   = 'det3_xm',\n",
    "  suav_mor_temp_xm   = 1,\n",
    "  prof_hist_xm       = 14,\n",
    "\n",
    "  # Detalles del gráfico de calibración\n",
    "  titulo             = 'Calibración Behavior Hipotercario Tradicional',\n",
    "  pos_leyenda        = (0.5, -0.25),\n",
    "  eje_y_xc           = 0.08,\n",
    "  eje_y_xm           = 0.08,\n",
    "  dim_grafico        = (22.5, 6),\n",
    "  punt_mora          = 85,\n",
    "  etiquetas          = True,\n",
    "  tamaño_etiqueta    = 14,\n",
    "\n",
    "  # Exportar factores para vista driver\n",
    "  exportar_factores  = True\n",
    ")"
   ]
  },
  {
   "cell_type": "code",
   "execution_count": 0,
   "metadata": {
    "application/vnd.databricks.v1+cell": {
     "cellMetadata": {
      "byteLimit": 2048000,
      "rowLimit": 10000
     },
     "inputWidgets": {},
     "nuid": "dc7a7028-bcaf-4f7a-a9f7-0691a138862f",
     "showTitle": false,
     "tableResultSettingsMap": {},
     "title": ""
    }
   },
   "outputs": [],
   "source": [
    "hm_bhv_cli_cal, rc, rm, fc_2_pyme, fm_2_pyme = Obj_Seg.EvolCal(\n",
    "  # Configuración de filtro de uso y pd de calibración\n",
    "  query_uso          = \"CODMES >= 202205 AND CAMPANIA_AGRUPADA_CLI = 'PYME'\",\n",
    "  pd_seg             = pd_vig,\n",
    "  pd_comparacion     = False,\n",
    "  proys_def_temp     = 6,\n",
    "  proys_mor_temp     = 3,\n",
    "  rd_aux             = 'RD6',\n",
    "  rd_aux2            = 'MORA_30_3',\n",
    "  mora_temp          = 'MORA_30_3',\n",
    "\n",
    "  # Configuración de proyecciones por cuentas\n",
    "  proy_def_temp_xc   = 'All_proy',\n",
    "  suav_def_temp_xc   = 1,\n",
    "  proy_mor_temp_xc   = 'All_proy',\n",
    "  suav_mor_temp_xc   = 1,\n",
    "  prof_hist_xc       = 14,\n",
    "\n",
    "  # Configuración de proyecciones por montos\n",
    "  proy_def_temp_xm   = 'met2_xm',\n",
    "  suav_def_temp_xm   = 0.5,\n",
    "  proy_mor_temp_xm   = 'det3_xm',\n",
    "  suav_mor_temp_xm   = 1,\n",
    "  prof_hist_xm       = 14,\n",
    "  fact_to_proy_xm    = [fm_1_pyme, fm_2_pyme],\n",
    "\n",
    "  # Detalles del gráfico de calibración\n",
    "  titulo             = 'Calibración Behavior Hipotercario Tradicional',\n",
    "  pos_leyenda        = (0.5, -0.25),\n",
    "  eje_y_xc           = 0.08,\n",
    "  eje_y_xm           = 0.08,\n",
    "  dim_grafico        = (22.5, 6),\n",
    "  punt_mora          = 85,\n",
    "  etiquetas          = True,\n",
    "  tamaño_etiqueta    = 14,\n",
    "\n",
    "  # Exportar factores para vista driver\n",
    "  exportar_factores  = True\n",
    ")"
   ]
  },
  {
   "cell_type": "code",
   "execution_count": 0,
   "metadata": {
    "application/vnd.databricks.v1+cell": {
     "cellMetadata": {
      "byteLimit": 2048000,
      "rowLimit": 10000
     },
     "inputWidgets": {},
     "nuid": "a70e0401-845e-4e5d-a684-b4d63003fdb6",
     "showTitle": false,
     "tableResultSettingsMap": {},
     "title": ""
    }
   },
   "outputs": [],
   "source": [
    "Obj_SegDis, evoldis ,evolks= Obj_Seg.EvolDis(\n",
    "  query_filtro = \"CODMES>=202101\",\n",
    "  pd_dis       = pd_vig,\n",
    "  codmes_ini   = 202301,\n",
    "  codmes_fin   = 202412,\n",
    "  amplitud     = 1,\n",
    "  disc_target= [12, 9,6],\n",
    "  umbral_sup   = 0.5,\n",
    "  umbral_inf   = 0.4,\n",
    "  moviles      = False,\n",
    "  etiquetas= True,\n",
    "  tamaño_etiqueta=16,\n",
    "  dim_grafico  = (22, 6),\n",
    "  pos_leyenda  = (0.5, -0.3)\n",
    ")"
   ]
  },
  {
   "cell_type": "code",
   "execution_count": 0,
   "metadata": {
    "application/vnd.databricks.v1+cell": {
     "cellMetadata": {
      "byteLimit": 2048000,
      "rowLimit": 10000
     },
     "inputWidgets": {},
     "nuid": "7d6b684a-7b95-4206-a6ca-e64836aa9ec3",
     "showTitle": false,
     "tableResultSettingsMap": {},
     "title": ""
    }
   },
   "outputs": [],
   "source": [
    "Obj_SegDis, evoldis ,evolks = Obj_Seg.EvolDis(\n",
    "  query_filtro = \"CODMES>=202101 AND CAMPANIA_AGRUPADA_CLI='PYME' and PERFIL_F1<>'NO APALANCADO' \",\n",
    "  pd_dis       = pd_vig,\n",
    "  codmes_ini   = 202301,\n",
    "  codmes_fin   = 202412,\n",
    "  amplitud     = 1,\n",
    "  disc_target= [12, 9,6],\n",
    "  umbral_sup   = 0.5,\n",
    "  umbral_inf   = 0.4,\n",
    "  moviles      = False,\n",
    "  eje_gini_max = 1,\n",
    "  etiquetas= True,\n",
    "  tamaño_etiqueta=20,\n",
    "  dim_grafico  = (22, 6),\n",
    "  pos_leyenda  = (0.5, -0.3)\n",
    ")"
   ]
  },
  {
   "cell_type": "code",
   "execution_count": 0,
   "metadata": {
    "application/vnd.databricks.v1+cell": {
     "cellMetadata": {
      "byteLimit": 2048000,
      "rowLimit": 10000
     },
     "inputWidgets": {},
     "nuid": "6eb44ed2-f8b8-4fd3-acc5-9cae5e547e01",
     "showTitle": false,
     "tableResultSettingsMap": {},
     "title": ""
    }
   },
   "outputs": [],
   "source": [
    "Obj_SegDis, evoldis ,evolks = Obj_Seg.EvolDis(\n",
    "  query_filtro = \"CODMES>=202101 AND CAMPANIA_AGRUPADA_CLI='PYME' and PERFIL_F1='NO APALANCADO' \",\n",
    "  pd_dis       = pd_vig,\n",
    "  codmes_ini   = 202301,\n",
    "  codmes_fin   = 202412,\n",
    "  amplitud     = 1,\n",
    "  disc_target= [12, 9,6],\n",
    "  umbral_sup   = 0.5,\n",
    "  umbral_inf   = 0.4,\n",
    "  moviles      = False,\n",
    "  eje_gini_max = 1,\n",
    "  etiquetas= True,\n",
    "  tamaño_etiqueta=20,\n",
    "  dim_grafico  = (22, 6),\n",
    "  pos_leyenda  = (0.5, -0.3)\n",
    ")"
   ]
  },
  {
   "cell_type": "code",
   "execution_count": 0,
   "metadata": {
    "application/vnd.databricks.v1+cell": {
     "cellMetadata": {
      "byteLimit": 2048000,
      "rowLimit": 10000
     },
     "inputWidgets": {},
     "nuid": "42c66f6c-7dd3-486d-b15a-230a01adaefd",
     "showTitle": false,
     "tableResultSettingsMap": {},
     "title": ""
    }
   },
   "outputs": [],
   "source": [
    "base_bhv_gahi=spark.table('catalog_lhcl_prod_bcp.bcp_edv_fabseg.T45988_base_bhv_gahi_202503v2')\n",
    "\n",
    "base_bhv_gahi = base_bhv_gahi.select('CODMES', 'CODCLAVECIC', 'CODCLAVEOPECTA', 'CAMPANIA_AGRUPADA_CLI', 'MTOPRINCIPAL_SOLES', 'PD_BHV_GAHI_3Q24', 'NUMEDADMADURACION_2', 'FLG_SEGMENT_RAN', 'SEGMENTO_BANCA_F', 'PD_BHV_FWL')"
   ]
  },
  {
   "cell_type": "code",
   "execution_count": 0,
   "metadata": {
    "application/vnd.databricks.v1+cell": {
     "cellMetadata": {
      "byteLimit": 2048000,
      "rowLimit": 10000
     },
     "inputWidgets": {},
     "nuid": "a2e38ec6-5ad5-4cb6-8985-0ea84dcd85ed",
     "showTitle": false,
     "tableResultSettingsMap": {},
     "title": ""
    }
   },
   "outputs": [],
   "source": [
    "md_relcodclaveopectadl = spark.table('catalog_lhcl_prod_bcp.bcp_edv_fabseg.T39290_MD_RELCODCLAVEOPECTADL')\n",
    "md_relcodclaveopectadl = md_relcodclaveopectadl.withColumn(\"CODCLAVEOPECTA\", col(\"codclaveopecta\").cast(\"integer\"))\n",
    "\n",
    "# Tabla MIN_MES_DET: Obtener los minimos días de vencimiento \n",
    "hm_saldoprestamo = spark.table('catalog_lhcl_prod_bcp.bcp_udv_int_vu.h_saldocuentacreditopersonal')\n",
    "hm_saldoprestamo = hm_saldoprestamo.withColumn(\"CODMES\", date_format(col(\"FECDIA\"), \"yyyyMM\"))\n",
    "hm_saldoprestamo = hm_saldoprestamo.groupBy(\"CODMES\", \"CODCLAVECTA\", \"CTDDIAVCDA\").agg(max(\"FECDIA\").alias(\"MAX_FECDIA\"))\n",
    "min_mes_det = hm_saldoprestamo.groupBy(\"CODCLAVECTA\").agg(\n",
    "    min(when(col(\"CTDDIAVCDA\") > 8, col(\"CODMES\"))).alias(\"PRIMER_MES_8\"),\n",
    "    min(when(col(\"CTDDIAVCDA\") > 15, col(\"CODMES\"))).alias(\"PRIMER_MES_15\"),\n",
    "    min(when(col(\"CTDDIAVCDA\") > 20, col(\"CODMES\"))).alias(\"PRIMER_MES_20\"),\n",
    "    min(when(col(\"CTDDIAVCDA\") > 30, col(\"CODMES\"))).alias(\"PRIMER_MES_30\")\n",
    ")\n",
    "\n",
    "\n",
    "# Cruzando para homologar el opecta\n",
    "min_mes_det = min_mes_det.join(\n",
    "    md_relcodclaveopectadl.selectExpr(\"CODCLAVECTADL as CODCLAVECTA\", \"CODCLAVEOPECTA\"),\n",
    "    on = [\"CODCLAVECTA\"],\n",
    "    how = 'left'\n",
    ")\n",
    "\n",
    "min_mes_det.persist(StorageLevel.MEMORY_AND_DISK).count()"
   ]
  },
  {
   "cell_type": "code",
   "execution_count": 0,
   "metadata": {
    "application/vnd.databricks.v1+cell": {
     "cellMetadata": {
      "byteLimit": 2048000,
      "rowLimit": 10000
     },
     "inputWidgets": {},
     "nuid": "4aea89da-c41d-452a-a29d-5a833073c1c9",
     "showTitle": false,
     "tableResultSettingsMap": {},
     "title": ""
    }
   },
   "outputs": [],
   "source": [
    "base_bhv_gahi = base_bhv_gahi.join(\n",
    "    min_mes_det,\n",
    "    on=\"codclaveopecta\",\n",
    "    how='left'\n",
    ")"
   ]
  },
  {
   "cell_type": "code",
   "execution_count": 0,
   "metadata": {
    "application/vnd.databricks.v1+cell": {
     "cellMetadata": {
      "byteLimit": 2048000,
      "rowLimit": 10000
     },
     "inputWidgets": {},
     "nuid": "49381e55-80b0-4c82-9b9e-400fd831fa53",
     "showTitle": false,
     "tableResultSettingsMap": {},
     "title": ""
    }
   },
   "outputs": [],
   "source": [
    "v_hm_univ_ctas_als = spark.table('catalog_lhcl_prod_bcp.bcp_edv_fabseg.TABLASGE_v_hm_univ_ctas_als')\n",
    "base_bhv_gahi = base_bhv_gahi.join(\n",
    "    v_hm_univ_ctas_als.select(\"CODMES\", \"CODCLAVEOPECTA\", \"CTDDIAATRASO_F1\", \"CTDDIAATRASO_F2\", \"CTDDIAATRASO_F3\"), \n",
    "    on=[\"CODCLAVEOPECTA\", \"CODMES\"], \n",
    "    how='left'\n",
    ")"
   ]
  },
  {
   "cell_type": "code",
   "execution_count": 0,
   "metadata": {
    "application/vnd.databricks.v1+cell": {
     "cellMetadata": {
      "byteLimit": 2048000,
      "rowLimit": 10000
     },
     "inputWidgets": {},
     "nuid": "29fb4d72-8059-42ea-b57f-b92826bebc2b",
     "showTitle": false,
     "tableResultSettingsMap": {},
     "title": ""
    }
   },
   "outputs": [],
   "source": [
    "# Tabla mm_mes_primer_default_norev: Obtener el minimo mes de default\n",
    "mm_portafoliocredito = spark.table('catalog_lhcl_prod_bcp.bcp_ddv_adrmmgr_seginfobasesgenerales_vu.mm_portafoliocredito')\n",
    "\n",
    "mm_mes_primer_default_norev = mm_portafoliocredito.join(\n",
    "    md_relcodclaveopectadl.selectExpr(\"CODCLAVECTADL AS CODCLAVECTA\", \"CODCLAVEOPECTA\"), \n",
    "    on = \"CODCLAVECTA\", \n",
    "    how=\"left\"\n",
    ")\n",
    "base_bhv_gahi = base_bhv_gahi.drop('MIN_MES_DEF_60_BLOQ_REF_ACT')\n",
    "base_bhv_gahi = base_bhv_gahi.join(\n",
    "    mm_mes_primer_default_norev.select(\"codclaveopecta\", coalesce(mm_mes_primer_default_norev[\"CODMESMINDEF60BLOQUEOREFIN\"], lit(999999)).alias(\"MIN_MES_DEF_60_BLOQ_REF_ACT\")),\n",
    "    on=\"codclaveopecta\",\n",
    "    how='left'\n",
    ")"
   ]
  },
  {
   "cell_type": "code",
   "execution_count": 0,
   "metadata": {
    "application/vnd.databricks.v1+cell": {
     "cellMetadata": {
      "byteLimit": 2048000,
      "rowLimit": 10000
     },
     "inputWidgets": {},
     "nuid": "2683cc50-b49f-42da-86b0-6b1bc28f2893",
     "showTitle": false,
     "tableResultSettingsMap": {},
     "title": ""
    }
   },
   "outputs": [],
   "source": [
    "base_bhv_gahi = base_bhv_gahi.withColumn(\n",
    "    \"PRIMER_MES_8\", \n",
    "    when(col(\"PRIMER_MES_8\").isNull(), \n",
    "    lit(999999)).otherwise(col(\"PRIMER_MES_8\"))\n",
    ")\n",
    "\n",
    "base_bhv_gahi = base_bhv_gahi.withColumn(\n",
    "    \"DISTANCIA_8\", \n",
    "    (F.round(col(\"PRIMER_MES_8\")/100, 0)*12 + (col(\"PRIMER_MES_8\")-F.round(col(\"PRIMER_MES_8\")/100, 0)*100)) - \n",
    "    (F.round(col(\"CODMES\")/100, 0)*12 + (col(\"CODMES\")-F.round(col(\"CODMES\")/100, 0)*100))\n",
    ")\n",
    "\n",
    "base_bhv_gahi = base_bhv_gahi.withColumn(\"DET_8_0\", when(col(\"DISTANCIA_8\") <= 0, lit(1)).otherwise(lit(0)))\n",
    "base_bhv_gahi = base_bhv_gahi.withColumn(\"DET_8_2\", when(col(\"DISTANCIA_8\") <= 2, lit(1)).otherwise(lit(0)))\n",
    "base_bhv_gahi = base_bhv_gahi.withColumn(\"DET_8_3\", when(col(\"DISTANCIA_8\") <= 3, lit(1)).otherwise(lit(0)))\n",
    "base_bhv_gahi = base_bhv_gahi.withColumn(\"DET_8_4\", when(col(\"DISTANCIA_8\") <= 4, lit(1)).otherwise(lit(0)))\n",
    "\n",
    "base_bhv_gahi = base_bhv_gahi.withColumn(\n",
    "    \"PRIMER_MES_15\", \n",
    "    when(col(\"PRIMER_MES_15\").isNull(), \n",
    "    lit(999999)).otherwise(col(\"PRIMER_MES_15\"))\n",
    ")\n",
    "\n",
    "base_bhv_gahi = base_bhv_gahi.withColumn(\n",
    "    \"DISTANCIA_15\", \n",
    "    (F.round(col(\"PRIMER_MES_15\")/100, 0)*12 + (col(\"PRIMER_MES_15\")-F.round(col(\"PRIMER_MES_15\")/100, 0)*100)) - \n",
    "    (F.round(col(\"CODMES\")/100, 0)*12 + (col(\"CODMES\")-F.round(col(\"CODMES\")/100, 0)*100))\n",
    ")\n",
    "\n",
    "base_bhv_gahi = base_bhv_gahi.withColumn(\"DET_15_0\", when(col(\"DISTANCIA_15\") <= 0, lit(1)).otherwise(lit(0)))\n",
    "base_bhv_gahi = base_bhv_gahi.withColumn(\"DET_15_2\", when(col(\"DISTANCIA_15\") <= 2, lit(1)).otherwise(lit(0)))\n",
    "base_bhv_gahi = base_bhv_gahi.withColumn(\"DET_15_3\", when(col(\"DISTANCIA_15\") <= 3, lit(1)).otherwise(lit(0)))\n",
    "base_bhv_gahi = base_bhv_gahi.withColumn(\"DET_15_4\", when(col(\"DISTANCIA_15\") <= 4, lit(1)).otherwise(lit(0)))\n",
    "\n",
    "base_bhv_gahi = base_bhv_gahi.withColumn(\n",
    "    \"PRIMER_MES_20\", \n",
    "    when(col(\"PRIMER_MES_20\").isNull(), \n",
    "    lit(999999)).otherwise(col(\"PRIMER_MES_20\"))\n",
    ")\n",
    "\n",
    "base_bhv_gahi = base_bhv_gahi.withColumn(\n",
    "    \"DISTANCIA_20\", \n",
    "    (F.round(col(\"PRIMER_MES_20\")/100, 0)*12 + (col(\"PRIMER_MES_20\")-F.round(col(\"PRIMER_MES_20\")/100, 0)*100)) - \n",
    "    (F.round(col(\"CODMES\")/100, 0)*12 + (col(\"CODMES\")-F.round(col(\"CODMES\")/100, 0)*100))\n",
    ")\n",
    "\n",
    "\n",
    "base_bhv_gahi = base_bhv_gahi.withColumn(\"DET_20_0\", when(col(\"DISTANCIA_20\") <= 0, lit(1)).otherwise(lit(0)))\n",
    "base_bhv_gahi = base_bhv_gahi.withColumn(\"DET_20_2\", when(col(\"DISTANCIA_20\") <= 2, lit(1)).otherwise(lit(0)))\n",
    "base_bhv_gahi = base_bhv_gahi.withColumn(\"DET_20_3\", when(col(\"DISTANCIA_20\") <= 3, lit(1)).otherwise(lit(0)))\n",
    "base_bhv_gahi = base_bhv_gahi.withColumn(\"DET_20_4\", when(col(\"DISTANCIA_20\") <= 4, lit(1)).otherwise(lit(0)))\n",
    "\n",
    "base_bhv_gahi = base_bhv_gahi.withColumn(\n",
    "    \"PRIMER_MES_30\", \n",
    "    when(col(\"PRIMER_MES_30\").isNull(), \n",
    "    lit(999999)).otherwise(col(\"PRIMER_MES_30\"))\n",
    ")\n",
    "\n",
    "base_bhv_gahi = base_bhv_gahi.withColumn(\n",
    "    \"DISTANCIA_30\", \n",
    "    (F.round(col(\"PRIMER_MES_30\")/100, 0)*12 + (col(\"PRIMER_MES_30\")-F.round(col(\"PRIMER_MES_30\")/100, 0)*100)) - \n",
    "    (F.round(col(\"CODMES\")/100, 0)*12 + (col(\"CODMES\")-F.round(col(\"CODMES\")/100, 0)*100))\n",
    ")\n",
    "\n",
    "base_bhv_gahi = base_bhv_gahi.withColumn(\"DET_30_0\", when(col(\"DISTANCIA_30\") <= 0, lit(1)).otherwise(lit(0)))\n",
    "base_bhv_gahi = base_bhv_gahi.withColumn(\"DET_30_2\", when(col(\"DISTANCIA_30\") <= 2, lit(1)).otherwise(lit(0)))\n",
    "base_bhv_gahi = base_bhv_gahi.withColumn(\"DET_30_3\", when(col(\"DISTANCIA_30\") <= 3, lit(1)).otherwise(lit(0)))\n",
    "base_bhv_gahi = base_bhv_gahi.withColumn(\"DET_30_4\", when(col(\"DISTANCIA_30\") <= 4, lit(1)).otherwise(lit(0)))\n",
    "\n",
    "base_bhv_gahi = base_bhv_gahi.withColumn('MORA_8_2',F.when(F.greatest(F.col('CTDDIAATRASO_F1'), F.col('CTDDIAATRASO_F2')) >= 8, 1).otherwise(0))\n",
    "base_bhv_gahi = base_bhv_gahi.withColumn('MORA_15_2',F.when(F.greatest(F.col('CTDDIAATRASO_F1'), F.col('CTDDIAATRASO_F2')) >= 15, 1).otherwise(0))\n",
    "base_bhv_gahi = base_bhv_gahi.withColumn('MORA_20_2',F.when(F.greatest(F.col('CTDDIAATRASO_F1'), F.col('CTDDIAATRASO_F2')) >= 20, 1).otherwise(0))\n",
    "base_bhv_gahi = base_bhv_gahi.withColumn('MORA_30_2',F.when(F.greatest(F.col('CTDDIAATRASO_F1'), F.col('CTDDIAATRASO_F2')) >= 30, 1).otherwise(0))\n",
    "base_bhv_gahi = base_bhv_gahi.withColumn('MORA_45_2',F.when(F.greatest(F.col('CTDDIAATRASO_F1'), F.col('CTDDIAATRASO_F2')) >= 45, 1).otherwise(0))\n",
    "\n",
    "base_bhv_gahi = base_bhv_gahi.withColumn('MORA_1_3',F.when(F.greatest(F.col('CTDDIAATRASO_F1'), F.col('CTDDIAATRASO_F2'), F.col('CTDDIAATRASO_F3'))>= 1, 1).otherwise(0))\n",
    "base_bhv_gahi = base_bhv_gahi.withColumn('MORA_8_3',F.when(F.greatest(F.col('CTDDIAATRASO_F1'), F.col('CTDDIAATRASO_F2'), F.col('CTDDIAATRASO_F3'))>= 8, 1).otherwise(0))\n",
    "base_bhv_gahi = base_bhv_gahi.withColumn('MORA_15_3',F.when(F.greatest(F.col('CTDDIAATRASO_F1'), F.col('CTDDIAATRASO_F2'), F.col('CTDDIAATRASO_F3'))>= 15, 1).otherwise(0))\n",
    "base_bhv_gahi = base_bhv_gahi.withColumn('MORA_20_3',F.when(F.greatest(F.col('CTDDIAATRASO_F1'), F.col('CTDDIAATRASO_F2'), F.col('CTDDIAATRASO_F3'))>= 20, 1).otherwise(0))\n",
    "base_bhv_gahi = base_bhv_gahi.withColumn('MORA_30_3',F.when(F.greatest(F.col('CTDDIAATRASO_F1'), F.col('CTDDIAATRASO_F2'), F.col('CTDDIAATRASO_F2'))>= 30, 1).otherwise(0))\n",
    "base_bhv_gahi = base_bhv_gahi.withColumn('MORA_45_3',F.when(F.greatest(F.col('CTDDIAATRASO_F1'), F.col('CTDDIAATRASO_F2'), F.col('CTDDIAATRASO_F2'))>= 45, 1).otherwise(0))\n",
    "\n",
    "base_bhv_gahi.persist(StorageLevel.MEMORY_AND_DISK).count()\n",
    "\n",
    "base_bhv_gahi = base_bhv_gahi.withColumn(\n",
    "    \"MIN_MES_DEF\", \n",
    "    when(col(\"MIN_MES_DEF_60_BLOQ_REF_ACT\").isNull(), \n",
    "    lit(999999)).otherwise(col(\"MIN_MES_DEF_60_BLOQ_REF_ACT\"))\n",
    ")\n",
    "\n",
    "base_bhv_gahi = base_bhv_gahi.withColumn(\n",
    "    \"DISTANCIA_DEF\", \n",
    "    (F.round(col(\"MIN_MES_DEF\")/100, 0)*12 + (col(\"MIN_MES_DEF\")-F.round(col(\"MIN_MES_DEF\")/100, 0)*100)) - \n",
    "    (F.round(col(\"CODMES\")/100, 0)*12 + (col(\"CODMES\")-F.round(col(\"CODMES\")/100, 0)*100))\n",
    ")\n",
    "\n",
    "base_bhv_gahi = base_bhv_gahi.withColumn(\"DEF12\", when(col(\"DISTANCIA_DEF\") <= 12, lit(1)).otherwise(lit(0)))\n",
    "base_bhv_gahi = base_bhv_gahi.withColumn(\"DEF11\", when(col(\"DISTANCIA_DEF\") <= 11, lit(1)).otherwise(lit(0)))\n",
    "base_bhv_gahi = base_bhv_gahi.withColumn(\"DEF10\", when(col(\"DISTANCIA_DEF\") <= 10, lit(1)).otherwise(lit(0)))\n",
    "base_bhv_gahi = base_bhv_gahi.withColumn(\"DEF9\", when(col(\"DISTANCIA_DEF\") <= 9, lit(1)).otherwise(lit(0)))\n",
    "base_bhv_gahi = base_bhv_gahi.withColumn(\"DEF8\", when(col(\"DISTANCIA_DEF\") <= 8, lit(1)).otherwise(lit(0)))\n",
    "base_bhv_gahi = base_bhv_gahi.withColumn(\"DEF7\", when(col(\"DISTANCIA_DEF\") <= 7, lit(1)).otherwise(lit(0)))\n",
    "base_bhv_gahi = base_bhv_gahi.withColumn(\"DEF6\", when(col(\"DISTANCIA_DEF\") <= 6, lit(1)).otherwise(lit(0)))\n",
    "base_bhv_gahi = base_bhv_gahi.withColumn(\"DEF5\", when(col(\"DISTANCIA_DEF\") <= 5, lit(1)).otherwise(lit(0)))\n",
    "base_bhv_gahi = base_bhv_gahi.withColumn(\"DEF4\", when(col(\"DISTANCIA_DEF\") <= 4, lit(1)).otherwise(lit(0)))\n",
    "base_bhv_gahi = base_bhv_gahi.withColumn(\"DEF3\", when(col(\"DISTANCIA_DEF\") <= 3, lit(1)).otherwise(lit(0)))\n",
    "base_bhv_gahi = base_bhv_gahi.withColumn(\"DEF2\", when(col(\"DISTANCIA_DEF\") <= 2, lit(1)).otherwise(lit(0)))\n",
    "base_bhv_gahi = base_bhv_gahi.withColumn(\"DEF1\", when(col(\"DISTANCIA_DEF\") <= 1, lit(1)).otherwise(lit(0)))\n",
    "\n",
    "# Def foto\n",
    "base_bhv_gahi = base_bhv_gahi.withColumn(\"DEF_60_BLOQ_REF_0\", when(col(\"DISTANCIA_DEF\") <= 0, lit(1)).otherwise(lit(0)))\n",
    "\n",
    "base_bhv_gahi.persist(StorageLevel.MEMORY_AND_DISK).count()"
   ]
  },
  {
   "cell_type": "code",
   "execution_count": 0,
   "metadata": {
    "application/vnd.databricks.v1+cell": {
     "cellMetadata": {
      "byteLimit": 2048000,
      "rowLimit": 10000
     },
     "inputWidgets": {},
     "nuid": "eda520cc-8ed8-435a-bb73-ef7a2a9343d7",
     "showTitle": false,
     "tableResultSettingsMap": {},
     "title": ""
    }
   },
   "outputs": [],
   "source": [
    "base_bhv_gahi.createOrReplaceTempView(\"temp_view\")\n",
    "# Usar el parámetro en la consulta SQL\n",
    "spark.sql(f\"\"\"\n",
    "    CREATE OR REPLACE TABLE catalog_lhcl_prod_bcp.bcp_edv_fabseg.T45988_base_bhv_gahi_202505_2\n",
    "    LOCATION 'abfss://bcp-edv-fabseg@adlscu1lhclbackp05.dfs.core.windows.net/HIPOTECARIO_2025/BHV/202505_2/base_bhv_gahi'\n",
    "    AS SELECT distinct a.* FROM temp_view as a\n",
    "\"\"\")"
   ]
  },
  {
   "cell_type": "code",
   "execution_count": 0,
   "metadata": {
    "application/vnd.databricks.v1+cell": {
     "cellMetadata": {
      "byteLimit": 2048000,
      "rowLimit": 10000
     },
     "inputWidgets": {},
     "nuid": "a26b0d83-ea2c-45fc-a7ae-7ab6853d42c8",
     "showTitle": false,
     "tableResultSettingsMap": {},
     "title": ""
    }
   },
   "outputs": [],
   "source": [
    "gahi = spark.table('catalog_lhcl_prod_bcp.bcp_edv_fabseg.T45988_base_bhv_gahi_202505_2')"
   ]
  },
  {
   "cell_type": "code",
   "execution_count": 0,
   "metadata": {
    "application/vnd.databricks.v1+cell": {
     "cellMetadata": {
      "byteLimit": 2048000,
      "rowLimit": 10000
     },
     "inputWidgets": {},
     "nuid": "2b127815-3801-4c96-911d-e5e01cd165f0",
     "showTitle": false,
     "tableResultSettingsMap": {},
     "title": ""
    }
   },
   "outputs": [],
   "source": [
    "pd_vig='PD_BHV_CLI_GHI'\n",
    "pd_cal='PD_BHV_GAHI_3Q24'# en uso\n",
    "pd_trc='xb_nue_bhv'\n",
    "tipo_banda = 'Vasiseck'#Jeffrey Vasiseck\n",
    "codmes_default = 202406\n",
    "columna_monto='MTOPRINCIPAL_SOLES'\n",
    "titulo='Calibración Behavior Garantia Hipotecaria'\n",
    "condiciones= \"CODMES >= 202208 AND NUMEDADMADURACION_2>0\""
   ]
  },
  {
   "cell_type": "code",
   "execution_count": 0,
   "metadata": {
    "application/vnd.databricks.v1+cell": {
     "cellMetadata": {
      "byteLimit": 2048000,
      "rowLimit": 10000
     },
     "inputWidgets": {},
     "nuid": "80cddbc7-9e9b-4bb1-979b-25a8b813e1c8",
     "showTitle": false,
     "tableResultSettingsMap": {},
     "title": ""
    }
   },
   "outputs": [],
   "source": [
    "# Objeto de Seguimiento\n",
    "Obj_Seg = rmm.MonitorScore_v01(\n",
    "  nombre_modelo         = 'Personas Modelo Behavior',\n",
    "  codigo_modelo         = 'MOD-BCP-20658',\n",
    "  tier                  = 'II',\n",
    "  detalle_seguimiento   = 'Seguimiento Behavior',\n",
    "  mes_seguimiento       = '202502',\n",
    "  base_monitoreo        = gahi,\n",
    "  pd1                   = pd_cal,\n",
    "  pd2                   = pd_cal,\n",
    "  monto_credito         = columna_monto,\n",
    "  query_univ            = \"CODMES >= 202201 AND DEF_60_BLOQ_REF_0=0 AND NUMEDADMADURACION_2>0\",\n",
    "  bandas                = tipo_banda,\n",
    "  codmes_default        = codmes_default,\n",
    "  meses_ventana_target  = 12,\n",
    "  meses_atraso_target   = 2\n",
    ")"
   ]
  },
  {
   "cell_type": "code",
   "execution_count": 0,
   "metadata": {
    "application/vnd.databricks.v1+cell": {
     "cellMetadata": {
      "byteLimit": 2048000,
      "rowLimit": 10000
     },
     "inputWidgets": {},
     "nuid": "817d1d71-018b-48d8-885d-7167195893be",
     "showTitle": false,
     "tableResultSettingsMap": {},
     "title": ""
    }
   },
   "outputs": [],
   "source": [
    "Obj_Seg_cal, rc1, rm1, fc1, fm1 = Obj_Seg.EvolCal(\n",
    "  # Configuración de filtro de uso y pd de calibración\n",
    "  query_uso          = \"CODMES>=202201 and PD_BHV_GAHI_3Q24 IS NOT NULL AND FLG_SEGMENT_RAN='1. Ingresos altos al día' AND SEGMENTO_BANCA_F='1. Afluente'\",\n",
    "  pd_seg             = pd_cal,\n",
    "  pd_comparacion     = True,\n",
    "  proys_def_temp     = 6,\n",
    "  proys_mor_temp     = 3,\n",
    "  rd_aux             = 'RD6',\n",
    "  rd_aux2            = 'MORA_30_3', # Corregido\n",
    "  mora_temp          = 'MORA_30_3',\n",
    "\n",
    "  # Configuración de proyecciones por cuentas\n",
    "  proy_def_temp_xc   = 'All_proy', #All_proy met1_xc met2_xc met3_xc\n",
    "  suav_def_temp_xc   = 1,\n",
    "  proy_mor_temp_xc   = 'All_proy', #All_proy det1_xc det2_xc det3_xc\n",
    "  suav_mor_temp_xc   = 1,\n",
    "  prof_hist_xc       = 14,\n",
    "\n",
    "  # Configuración de proyecciones por montos\n",
    "  proy_def_temp_xm   = \"np.where(calxmontos['CODMES'].isin([202410, 202411, 202412]), met1_xm*1.6, met1_xm*1.1)\", #All_proy met1_xm met2_xm met3_xm\n",
    "  suav_def_temp_xm   = 1,\n",
    "  proy_mor_temp_xm   = 'det3_xm*1.2', #All_proy det1_xm det2_xm det3_xm\n",
    "  suav_mor_temp_xm   = 1,\n",
    "  prof_hist_xm       = 14,\n",
    "  #fact_to_proy_xc    = [fc_1, fc_2],\n",
    "  #fact_to_proy_xm    = [fm_1, fm_2],\n",
    "\n",
    "  # Detalles del gráfico de calibración\n",
    "  titulo             = titulo,\n",
    "  pos_leyenda        = (0.5, -0.25),\n",
    "  eje_y_xc           = 0.04,\n",
    "  eje_y_xm           = 0.04,\n",
    "  dim_grafico        = (25, 6.5),\n",
    "  punt_mora          = 85, #Tamaño de puntos de mora temprana\n",
    "  etiquetas          =True,\n",
    "  pos_etiquetas_xm   =10,\n",
    "  pos_etiquetas_xc   =10,\n",
    "  tamaño_etiqueta    =20,\n",
    "\n",
    "  # Exportar factores para vista driver\n",
    "  exportar_factores  = True\n",
    ")"
   ]
  },
  {
   "cell_type": "code",
   "execution_count": 0,
   "metadata": {
    "application/vnd.databricks.v1+cell": {
     "cellMetadata": {
      "byteLimit": 2048000,
      "rowLimit": 10000
     },
     "inputWidgets": {},
     "nuid": "7a2ead87-c3fd-44d3-b4f1-e76cd6d4435d",
     "showTitle": false,
     "tableResultSettingsMap": {},
     "title": ""
    }
   },
   "outputs": [],
   "source": [
    "Obj_Seg_cal, rc2, rm2, fc2, fm2 = Obj_Seg.EvolCal(\n",
    "  # Configuración de filtro de uso y pd de calibración\n",
    "  query_uso          = \"CODMES>=202201 and PD_BHV_GAHI_3Q24 IS NOT NULL AND FLG_SEGMENT_RAN <>'1. Ingresos altos al día' AND SEGMENTO_BANCA_F='1. Afluente'\",\n",
    "  pd_seg             = pd_cal,\n",
    "  pd_comparacion     = True,\n",
    "  proys_def_temp     = 6,\n",
    "  proys_mor_temp     = 3,\n",
    "  rd_aux             = 'RD6',\n",
    "  rd_aux2            = 'MORA_30_3', # Corregido\n",
    "  mora_temp          = 'MORA_30_3',\n",
    "\n",
    "  # Configuración de proyecciones por cuentas\n",
    "  proy_def_temp_xc   = 'met3_xc', #All_proy met1_xc met2_xc met3_xc\n",
    "  suav_def_temp_xc   = 1,\n",
    "  proy_mor_temp_xc   = 'det3_xc', #All_proy det1_xc det2_xc det3_xc\n",
    "  suav_mor_temp_xc   = 1,\n",
    "  prof_hist_xc       = 14,\n",
    "\n",
    "  # Configuración de proyecciones por montos\n",
    "  proy_def_temp_xm   = \"(met1_xm + met2_xm)/2\", #All_proy met1_xm met2_xm met3_xm\n",
    "  suav_def_temp_xm   = 1,\n",
    "  proy_mor_temp_xm   = 'det3_xm', #All_proy det1_xm det2_xm det3_xm\n",
    "  suav_mor_temp_xm   = 1,\n",
    "  prof_hist_xm       = 14,\n",
    "  #fact_to_proy_xc    = [fc_1, fc_2],\n",
    "  #fact_to_proy_xm    = [fm_1, fm_2],\n",
    "\n",
    "  # Detalles del gráfico de calibración\n",
    "  titulo             = titulo,\n",
    "  pos_leyenda        = (0.5, -0.25),\n",
    "  eje_y_xc           = 0.3,\n",
    "  eje_y_xm           = 0.3,\n",
    "  dim_grafico        = (25, 6.5),\n",
    "  punt_mora          = 85, #Tamaño de puntos de mora temprana\n",
    "  etiquetas          =True,\n",
    "  pos_etiquetas_xm   =10,\n",
    "  pos_etiquetas_xc   =10,\n",
    "  tamaño_etiqueta    =20,\n",
    "\n",
    "  # Exportar factores para vista driver\n",
    "  exportar_factores  = True\n",
    ")"
   ]
  },
  {
   "cell_type": "code",
   "execution_count": 0,
   "metadata": {
    "application/vnd.databricks.v1+cell": {
     "cellMetadata": {
      "byteLimit": 2048000,
      "rowLimit": 10000
     },
     "inputWidgets": {},
     "nuid": "a6284fd1-fa8f-45fc-9893-cf19374c254d",
     "showTitle": false,
     "tableResultSettingsMap": {},
     "title": ""
    }
   },
   "outputs": [],
   "source": [
    "Obj_Seg_cal, rc3, rm3, fc3, fm3 = Obj_Seg.EvolCal(\n",
    "  # Configuración de filtro de uso y pd de calibración\n",
    "  query_uso          = \"CODMES>=202201 and PD_BHV_GAHI_3Q24 IS NOT NULL and  SEGMENTO_BANCA_F<>'1. Afluente'\",\n",
    "  pd_seg             = pd_cal,\n",
    "  pd_comparacion     = True,\n",
    "  proys_def_temp     = 6,\n",
    "  proys_mor_temp     = 3,\n",
    "  rd_aux             = 'RD6',\n",
    "  rd_aux2            = 'MORA_30_3', # Corregido\n",
    "  mora_temp          = 'MORA_30_3',\n",
    "\n",
    "  # Configuración de proyecciones por cuentas\n",
    "  proy_def_temp_xc   = 'met3_xc', #All_proy met1_xc met2_xc met3_xc\n",
    "  suav_def_temp_xc   = 1,\n",
    "  proy_mor_temp_xc   = 'det3_xc', #All_proy det1_xc det2_xc det3_xc\n",
    "  suav_mor_temp_xc   = 1,\n",
    "  prof_hist_xc       = 14,\n",
    "\n",
    "  # Configuración de proyecciones por montos\n",
    "  proy_def_temp_xm   = \"(met1_xm + met2_xm)/2\", #All_proy met1_xm met2_xm met3_xm\n",
    "  suav_def_temp_xm   = 1,\n",
    "  proy_mor_temp_xm   = 'det3_xm', #All_proy det1_xm det2_xm det3_xm\n",
    "  suav_mor_temp_xm   = 1,\n",
    "  prof_hist_xm       = 14,\n",
    "  #fact_to_proy_xc    = [fc_1, fc_2],\n",
    "  #fact_to_proy_xm    = [fm_1, fm_2],\n",
    "\n",
    "  # Detalles del gráfico de calibración\n",
    "  titulo             = titulo,\n",
    "  pos_leyenda        = (0.5, -0.25),\n",
    "  eje_y_xc           = 0.15,\n",
    "  eje_y_xm           = 0.15,\n",
    "  dim_grafico        = (25, 6.5),\n",
    "  punt_mora          = 85, #Tamaño de puntos de mora temprana\n",
    "  etiquetas          =True,\n",
    "  pos_etiquetas_xm   =10,\n",
    "  pos_etiquetas_xc   =10,\n",
    "  tamaño_etiqueta    =20,\n",
    "\n",
    "  # Exportar factores para vista driver\n",
    "  exportar_factores  = True\n",
    ")"
   ]
  },
  {
   "cell_type": "code",
   "execution_count": 0,
   "metadata": {
    "application/vnd.databricks.v1+cell": {
     "cellMetadata": {
      "byteLimit": 2048000,
      "rowLimit": 10000
     },
     "inputWidgets": {},
     "nuid": "7a9ba547-07a6-4284-8e8c-da0cf8c45912",
     "showTitle": false,
     "tableResultSettingsMap": {},
     "title": ""
    }
   },
   "outputs": [],
   "source": [
    "Obj_Seg_cal, rc3, rm3, fc3, fm3 = Obj_Seg.EvolCal(\n",
    "  # Configuración de filtro de uso y pd de calibración\n",
    "  query_uso          = \"CODMES>=202201 and PD_BHV_GAHI_3Q24 IS NOT NULL and  SEGMENTO_BANCA_F<>'1. Afluente'\",\n",
    "  pd_seg             = pd_cal,\n",
    "  pd_comparacion     = True,\n",
    "  proys_def_temp     = 6,\n",
    "  proys_mor_temp     = 3,\n",
    "  rd_aux             = 'RD6',\n",
    "  rd_aux2            = 'MORA_30_3', # Corregido\n",
    "  mora_temp          = 'MORA_30_3',\n",
    "\n",
    "  # Configuración de proyecciones por cuentas\n",
    "  proy_def_temp_xc   = 'met3_xc', #All_proy met1_xc met2_xc met3_xc\n",
    "  suav_def_temp_xc   = 1,\n",
    "  proy_mor_temp_xc   = 'det3_xc', #All_proy det1_xc det2_xc det3_xc\n",
    "  suav_mor_temp_xc   = 1,\n",
    "  prof_hist_xc       = 14,\n",
    "\n",
    "  # Configuración de proyecciones por montos\n",
    "  proy_def_temp_xm   = \"(met1_xm + met2_xm)/2\", #All_proy met1_xm met2_xm met3_xm\n",
    "  suav_def_temp_xm   = 1,\n",
    "  proy_mor_temp_xm   = 'det3_xm', #All_proy det1_xm det2_xm det3_xm\n",
    "  suav_mor_temp_xm   = 1,\n",
    "  prof_hist_xm       = 14,\n",
    "  #fact_to_proy_xc    = [fc_1, fc_2],\n",
    "  #fact_to_proy_xm    = [fm_1, fm_2],\n",
    "\n",
    "  # Detalles del gráfico de calibración\n",
    "  titulo             = titulo,\n",
    "  pos_leyenda        = (0.5, -0.25),\n",
    "  eje_y_xc           = 0.15,\n",
    "  eje_y_xm           = 0.15,\n",
    "  dim_grafico        = (25, 6.5),\n",
    "  punt_mora          = 85, #Tamaño de puntos de mora temprana\n",
    "  etiquetas          =True,\n",
    "  pos_etiquetas_xm   =10,\n",
    "  pos_etiquetas_xc   =10,\n",
    "  tamaño_etiqueta    =20,\n",
    "\n",
    "  # Exportar factores para vista driver\n",
    "  exportar_factores  = True\n",
    ")"
   ]
  },
  {
   "cell_type": "code",
   "execution_count": 0,
   "metadata": {
    "application/vnd.databricks.v1+cell": {
     "cellMetadata": {
      "byteLimit": 2048000,
      "rowLimit": 10000
     },
     "inputWidgets": {},
     "nuid": "501494fe-cf6c-49bf-841e-c96840321a31",
     "showTitle": false,
     "tableResultSettingsMap": {},
     "title": ""
    }
   },
   "outputs": [],
   "source": [
    "Obj_Seg_cal, rcG, rmG, fcG, fmG = Obj_Seg.EvolCal(\n",
    "  # Configuración de filtro de uso y pd de calibración\n",
    "  query_uso          = \"CODMES>=202201 and PD_BHV_GAHI_3Q24 IS NOT NULL \",\n",
    "  pd_seg             = pd_cal,\n",
    "  pd_comparacion     = True,\n",
    "  proys_def_temp     = 6,\n",
    "  proys_mor_temp     = 3,\n",
    "  rd_aux             = 'RD6',\n",
    "  rd_aux2            = 'MORA_30_3', # Corregido\n",
    "  mora_temp          = 'MORA_30_3',\n",
    "\n",
    "  # Configuración de proyecciones por cuentas\n",
    "  proy_def_temp_xc   = 'met3_xc', #All_proy met1_xc met2_xc met3_xc\n",
    "  suav_def_temp_xc   = 1,\n",
    "  proy_mor_temp_xc   = 'det3_xc', #All_proy det1_xc det2_xc det3_xc\n",
    "  suav_mor_temp_xc   = 1,\n",
    "  prof_hist_xc       = 14,\n",
    "\n",
    "  # Configuración de proyecciones por montos\n",
    "  proy_def_temp_xm   = \"(met1_xm + met2_xm)/2\", #All_proy met1_xm met2_xm met3_xm\n",
    "  suav_def_temp_xm   = 1,\n",
    "  proy_mor_temp_xm   = 'det3_xm', #All_proy det1_xm det2_xm det3_xm\n",
    "  suav_mor_temp_xm   = 1,\n",
    "  prof_hist_xm       = 14,\n",
    "  fact_to_proy_xm    = [fm1, fm2,fm3],\n",
    "\n",
    "  # Detalles del gráfico de calibración\n",
    "  titulo             = titulo,\n",
    "  pos_leyenda        = (0.5, -0.25),\n",
    "  eje_y_xc           = 0.07,\n",
    "  eje_y_xm           = 0.07,\n",
    "  dim_grafico        = (25, 6.5),\n",
    "  punt_mora          = 85, #Tamaño de puntos de mora temprana\n",
    "  etiquetas          =True,\n",
    "  pos_etiquetas_xm   =10,\n",
    "  pos_etiquetas_xc   =10,\n",
    "  tamaño_etiqueta    =20,\n",
    "\n",
    "  # Exportar factores para vista driver\n",
    "  exportar_factores  = True\n",
    ")"
   ]
  },
  {
   "cell_type": "code",
   "execution_count": 0,
   "metadata": {
    "application/vnd.databricks.v1+cell": {
     "cellMetadata": {
      "byteLimit": 2048000,
      "rowLimit": 10000
     },
     "inputWidgets": {},
     "nuid": "83bb418d-4c53-41a0-984d-51a3900a20f7",
     "showTitle": false,
     "tableResultSettingsMap": {},
     "title": ""
    }
   },
   "outputs": [],
   "source": [
    "rmG"
   ]
  },
  {
   "cell_type": "code",
   "execution_count": 0,
   "metadata": {
    "application/vnd.databricks.v1+cell": {
     "cellMetadata": {
      "byteLimit": 2048000,
      "rowLimit": 10000
     },
     "inputWidgets": {},
     "nuid": "c50571ea-7e21-4a8c-bde2-82c8529a55df",
     "showTitle": false,
     "tableResultSettingsMap": {},
     "title": ""
    }
   },
   "outputs": [],
   "source": [
    "Obj_SegDis, evoldis ,evolks = Obj_Seg.EvolDis(\n",
    "  query_filtro = \"CODMES>=202101 AND FLG_SEGMENT_RAN ='1. Ingresos altos al día' AND SEGMENTO_BANCA_F='1. Afluente'\",\n",
    "  pd_dis       = pd_cal,\n",
    "  codmes_ini   = 202301,\n",
    "  codmes_fin   = 202412,\n",
    "  amplitud     = 1,\n",
    "  disc_target= [12, 9,6],\n",
    "  umbral_sup   = 0.5,\n",
    "  umbral_inf   = 0.4,\n",
    "  moviles      = False,\n",
    "  etiquetas= True,\n",
    "  tamaño_etiqueta=20,\n",
    "  dim_grafico  = (35, 7),\n",
    "  pos_leyenda  = (0.5, -0.3)\n",
    ")"
   ]
  },
  {
   "cell_type": "code",
   "execution_count": 0,
   "metadata": {
    "application/vnd.databricks.v1+cell": {
     "cellMetadata": {
      "byteLimit": 2048000,
      "rowLimit": 10000
     },
     "inputWidgets": {},
     "nuid": "e15769b8-2535-41ef-bcfd-f0564fd87f5a",
     "showTitle": false,
     "tableResultSettingsMap": {},
     "title": ""
    }
   },
   "outputs": [],
   "source": [
    "Obj_SegDis, evoldis ,evolks = Obj_Seg.EvolDis(\n",
    "  query_filtro = \"CODMES>=202101 AND ((FLG_SEGMENT_RAN <>'1. Ingresos altos al día' AND SEGMENTO_BANCA_F='1. Afluente') or SEGMENTO_BANCA_F<>'1. Afluente')\",\n",
    "  pd_dis       = pd_cal,\n",
    "  codmes_ini   = 202301,\n",
    "  codmes_fin   = 202412,\n",
    "  amplitud     = 1,\n",
    "  disc_target= [12, 9,6],\n",
    "  umbral_sup   = 0.5,\n",
    "  umbral_inf   = 0.4,\n",
    "  moviles      = False,\n",
    "  etiquetas= True,\n",
    "  tamaño_etiqueta=20,\n",
    "  dim_grafico  = (35, 7),\n",
    "  pos_leyenda  = (0.5, -0.3)\n",
    ")"
   ]
  },
  {
   "cell_type": "code",
   "execution_count": 0,
   "metadata": {
    "application/vnd.databricks.v1+cell": {
     "cellMetadata": {
      "byteLimit": 2048000,
      "rowLimit": 10000
     },
     "inputWidgets": {},
     "nuid": "8784bd70-ffa4-477a-ae91-bc3af0043cad",
     "showTitle": false,
     "tableResultSettingsMap": {},
     "title": ""
    }
   },
   "outputs": [],
   "source": [
    "Obj_SegDis, evoldis ,evolks = Obj_Seg.EvolDis(\n",
    "  query_filtro = \"CODMES>=202101 \",\n",
    "  pd_dis       = pd_cal,\n",
    "  codmes_ini   = 202301,\n",
    "  codmes_fin   = 202412,\n",
    "  amplitud     = 1,\n",
    "  disc_target= [12, 9, 6],\n",
    "  umbral_sup   = 0.5,\n",
    "  umbral_inf   = 0.4,\n",
    "  moviles      = False,\n",
    "  etiquetas= True,\n",
    "  tamaño_etiqueta=20,\n",
    "  dim_grafico  = (22, 6),\n",
    "  pos_leyenda  = (0.5, -0.3)\n",
    ")"
   ]
  }
 ],
 "metadata": {
  "application/vnd.databricks.v1+notebook": {
   "computePreferences": null,
   "dashboards": [],
   "environmentMetadata": {
    "base_environment": "",
    "environment_version": "2"
   },
   "inputWidgetPreferences": null,
   "language": "python",
   "notebookMetadata": {
    "mostRecentlyExecutedCommandWithImplicitDF": {
     "commandId": 6325125405068017,
     "dataframes": [
      "_sqldf"
     ]
    },
    "pythonIndentUnit": 4
   },
   "notebookName": "Actualización hip bhv - 202506",
   "widgets": {}
  },
  "language_info": {
   "name": "python"
  }
 },
 "nbformat": 4,
 "nbformat_minor": 0
}
